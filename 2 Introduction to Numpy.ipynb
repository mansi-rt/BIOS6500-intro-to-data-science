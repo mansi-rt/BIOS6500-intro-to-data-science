{
 "cells": [
  {
   "cell_type": "code",
   "execution_count": 1,
   "metadata": {},
   "outputs": [
    {
     "data": {
      "text/plain": [
       "array([100, 250, 430])"
      ]
     },
     "execution_count": 1,
     "metadata": {},
     "output_type": "execute_result"
    }
   ],
   "source": [
    "import numpy as np\n",
    "a = np.array([100, 250, 430])\n",
    "a"
   ]
  },
  {
   "cell_type": "code",
   "execution_count": 2,
   "metadata": {},
   "outputs": [
    {
     "data": {
      "text/plain": [
       "array([ 0,  1,  2,  3,  4,  5,  6,  7,  8,  9, 10, 11, 12, 13, 14, 15, 16,\n",
       "       17, 18, 19])"
      ]
     },
     "execution_count": 2,
     "metadata": {},
     "output_type": "execute_result"
    }
   ],
   "source": [
    "b = np.arange(20)\n",
    "b"
   ]
  },
  {
   "cell_type": "code",
   "execution_count": 14,
   "metadata": {},
   "outputs": [
    {
     "name": "stdout",
     "output_type": "stream",
     "text": [
      "[[100 200]\n",
      " [300 400]]\n"
     ]
    }
   ],
   "source": [
    "# ndarray n-dimensional array (data structure)\n",
    "c = np.array([[100, 200], [300,400]])\n",
    "print(c)"
   ]
  },
  {
   "cell_type": "code",
   "execution_count": 18,
   "metadata": {},
   "outputs": [
    {
     "name": "stdout",
     "output_type": "stream",
     "text": [
      "[[[100 200 250]\n",
      "  [300 400 430]]\n",
      "\n",
      " [[ 40  50  55]\n",
      "  [ 20  30  35]]]\n"
     ]
    }
   ],
   "source": [
    "c = np.array([[[100, 200, 250], [300,400, 430]], [[40,50,55],[20,30,35]]])\n",
    "print(c)"
   ]
  },
  {
   "cell_type": "code",
   "execution_count": 19,
   "metadata": {},
   "outputs": [
    {
     "name": "stdout",
     "output_type": "stream",
     "text": [
      "0\n",
      "1\n",
      "2\n",
      "3\n"
     ]
    }
   ],
   "source": [
    "x = np.array(50)\n",
    "a = np.array([1, 2, 3, 4, 5])\n",
    "b = np.array([[100, 200], [300,400]])\n",
    "c = np.array([[[100, 200, 250], [300,400, 430]], [[40,50,55],[20,30,35]]])\n",
    "print(x.ndim)\n",
    "print(a.ndim)\n",
    "print(b.ndim)\n",
    "print(c.ndim)"
   ]
  },
  {
   "cell_type": "code",
   "execution_count": 20,
   "metadata": {},
   "outputs": [
    {
     "name": "stdout",
     "output_type": "stream",
     "text": [
      "[[[[[11 12 13 14]]]]]\n",
      "Dimensions: 5\n"
     ]
    }
   ],
   "source": [
    "y = np.array([11, 12, 13, 14], ndmin=5)\n",
    "print(y)\n",
    "print('Dimensions:', y.ndim)"
   ]
  },
  {
   "cell_type": "code",
   "execution_count": 23,
   "metadata": {},
   "outputs": [
    {
     "name": "stdout",
     "output_type": "stream",
     "text": [
      "second element of one dimensional array: 2\n",
      "fifth element of two dimensional array: 10\n"
     ]
    }
   ],
   "source": [
    "a = np.array([[1,2,3,4,5], [6,7,8,9,10]])\n",
    "print('second element of one dimensional array:', a[0,1])\n",
    "print('fifth element of two dimensional array:', a[1,4])"
   ]
  },
  {
   "cell_type": "code",
   "execution_count": 24,
   "metadata": {},
   "outputs": [
    {
     "name": "stdout",
     "output_type": "stream",
     "text": [
      "430\n"
     ]
    }
   ],
   "source": [
    "a = np.array([[[100, 200, 250], [300,400, 430]], [[40,50,55],[20,30,35]]])\n",
    "print(a[0,1,2])"
   ]
  },
  {
   "cell_type": "code",
   "execution_count": null,
   "metadata": {},
   "outputs": [],
   "source": [
    "a = np.array([[1,2,3,4,5], [6,7,8,9,10]])\n",
    "print (a[1,-1])"
   ]
  },
  {
   "cell_type": "code",
   "execution_count": 30,
   "metadata": {},
   "outputs": [
    {
     "name": "stdout",
     "output_type": "stream",
     "text": [
      "[250 430 500 600]\n",
      "[600 700 800]\n",
      "[100 250 430 500]\n",
      "[600 700]\n",
      "[250 500]\n",
      "[100 430 600 800]\n"
     ]
    }
   ],
   "source": [
    "# Slicing arrays\n",
    "# [start:end]\n",
    "#[start:end:stop]\n",
    "a = np.array([100, 250, 430,500, 600, 700, 800])\n",
    "print(a[1:5])\n",
    "print(a[4:])\n",
    "print(a[:4])\n",
    "print(a[-3:-1])\n",
    "print(a[1:5:2])\n",
    "print(a[::2])\n"
   ]
  },
  {
   "cell_type": "code",
   "execution_count": 34,
   "metadata": {},
   "outputs": [
    {
     "name": "stdout",
     "output_type": "stream",
     "text": [
      "[7 8 9]\n",
      "[3 8]\n",
      "[[2 3 4]\n",
      " [7 8 9]]\n",
      "int32\n"
     ]
    }
   ],
   "source": [
    "a = np.array([[1,2,3,4,5], [6,7,8,9,10]])\n",
    "print(a[1,1:4])\n",
    "print(a[0:2,2])\n",
    "print(a[0:2,1:4])\n",
    "print(a.dtype)"
   ]
  },
  {
   "cell_type": "code",
   "execution_count": 37,
   "metadata": {},
   "outputs": [
    {
     "name": "stdout",
     "output_type": "stream",
     "text": [
      "['Robert' 'Ben' 'Kim']\n",
      "<U6\n"
     ]
    }
   ],
   "source": [
    "a = np.array(['Robert', 'Ben','Kim'])\n",
    "print(a)\n",
    "print(a.dtype)"
   ]
  },
  {
   "cell_type": "code",
   "execution_count": 38,
   "metadata": {},
   "outputs": [
    {
     "name": "stdout",
     "output_type": "stream",
     "text": [
      "[ 60 250 430]\n",
      "[100 250 430]\n"
     ]
    }
   ],
   "source": [
    "a = np.array([100, 250, 430])\n",
    "b = a.copy()\n",
    "a[0]=60\n",
    "print(a)\n",
    "print(b)"
   ]
  },
  {
   "cell_type": "code",
   "execution_count": 39,
   "metadata": {},
   "outputs": [
    {
     "name": "stdout",
     "output_type": "stream",
     "text": [
      "[ 80 250 430]\n",
      "[ 80 250 430]\n"
     ]
    }
   ],
   "source": [
    "a = np.array([100, 250, 430])\n",
    "b = a.view()\n",
    "a[0] = 80\n",
    "print(a)\n",
    "print(b)"
   ]
  },
  {
   "cell_type": "code",
   "execution_count": 40,
   "metadata": {},
   "outputs": [
    {
     "name": "stdout",
     "output_type": "stream",
     "text": [
      "[ 90 250 430]\n",
      "[ 90 250 430]\n"
     ]
    }
   ],
   "source": [
    "a = np.array([100, 250, 430])\n",
    "b = a.view()\n",
    "b[0] = 90\n",
    "print(a)\n",
    "print(b)"
   ]
  },
  {
   "cell_type": "code",
   "execution_count": 42,
   "metadata": {},
   "outputs": [
    {
     "name": "stdout",
     "output_type": "stream",
     "text": [
      "None\n",
      "[100 250 430]\n",
      "(3,)\n"
     ]
    }
   ],
   "source": [
    "a = np.array([100, 250, 430])\n",
    "b = a.copy()\n",
    "c = a.view()\n",
    "print(b.base)\n",
    "print(c.base)\n",
    "print(a.shape)"
   ]
  },
  {
   "cell_type": "code",
   "execution_count": 46,
   "metadata": {},
   "outputs": [
    {
     "name": "stdout",
     "output_type": "stream",
     "text": [
      "[[ 100  250  430]\n",
      " [ 500  600  700]\n",
      " [ 800  900 1000]\n",
      " [1100 1200 1300]]\n"
     ]
    }
   ],
   "source": [
    "a = np.array([100, 250, 430,500, 600, 700, 800,900, 1000, 1100,1200,1300])\n",
    "new_a = a.reshape(4,3)\n",
    "print(new_a)"
   ]
  },
  {
   "cell_type": "code",
   "execution_count": 47,
   "metadata": {},
   "outputs": [
    {
     "name": "stdout",
     "output_type": "stream",
     "text": [
      "[[[ 100  250]\n",
      "  [ 430  500]\n",
      "  [ 600  700]]\n",
      "\n",
      " [[ 800  900]\n",
      "  [1000 1100]\n",
      "  [1200 1300]]]\n"
     ]
    }
   ],
   "source": [
    "a = np.array([100, 250, 430,500, 600, 700, 800,900, 1000, 1100,1200,1300])\n",
    "new_a = a.reshape(2,3,2)\n",
    "print(new_a)"
   ]
  },
  {
   "cell_type": "code",
   "execution_count": 48,
   "metadata": {},
   "outputs": [
    {
     "name": "stdout",
     "output_type": "stream",
     "text": [
      "[ 1  2  3  4  5  6  7  8  9 10]\n"
     ]
    }
   ],
   "source": [
    "a = np.array([[1,2,3,4,5], [6,7,8,9,10]])\n",
    "new_a = a.reshape(-1)\n",
    "print(new_a)"
   ]
  },
  {
   "cell_type": "code",
   "execution_count": 65,
   "metadata": {},
   "outputs": [
    {
     "name": "stdout",
     "output_type": "stream",
     "text": [
      "[16 52 13 43 25 65]\n"
     ]
    }
   ],
   "source": [
    "a = np.array([16, 52, 13])\n",
    "\n",
    "b = np.array([43, 25, 65])\n",
    "\n",
    "c = np.concatenate((a, b))\n",
    "\n",
    "print(c) "
   ]
  },
  {
   "cell_type": "code",
   "execution_count": 70,
   "metadata": {},
   "outputs": [
    {
     "name": "stdout",
     "output_type": "stream",
     "text": [
      "[[16 52 43 25]\n",
      " [34 66 23 56]]\n"
     ]
    }
   ],
   "source": [
    "a = np.array([[16, 52],[34,66]])\n",
    "\n",
    "b = np.array([[43, 25],[23,56]])\n",
    "\n",
    "c = np.concatenate((a, b), axis =1)\n",
    "\n",
    "print(c) "
   ]
  },
  {
   "cell_type": "code",
   "execution_count": 71,
   "metadata": {},
   "outputs": [
    {
     "name": "stdout",
     "output_type": "stream",
     "text": [
      "[[[16 52]\n",
      "  [43 25]]\n",
      "\n",
      " [[34 66]\n",
      "  [23 56]]]\n"
     ]
    }
   ],
   "source": [
    "a = np.array([[16, 52],[34,66]])\n",
    "\n",
    "b = np.array([[43, 25],[23,56]])\n",
    "\n",
    "c = np.stack((a, b), axis =1)\n",
    "\n",
    "print(c) "
   ]
  },
  {
   "cell_type": "code",
   "execution_count": 80,
   "metadata": {},
   "outputs": [
    {
     "name": "stdout",
     "output_type": "stream",
     "text": [
      "[1 2 3 4 5 6]\n"
     ]
    }
   ],
   "source": [
    "a = np.array([1, 2, 3])\n",
    "\n",
    "b = np.array([4, 5, 6])\n",
    "\n",
    "c = np.hstack((a, b))\n",
    "\n",
    "print(c)"
   ]
  },
  {
   "cell_type": "code",
   "execution_count": 81,
   "metadata": {},
   "outputs": [
    {
     "name": "stdout",
     "output_type": "stream",
     "text": [
      "[[1 2 3]\n",
      " [4 5 6]]\n"
     ]
    }
   ],
   "source": [
    "a = np.array([1, 2, 3])\n",
    "\n",
    "b = np.array([4, 5, 6])\n",
    "\n",
    "c = np.vstack((a, b))\n",
    "\n",
    "print(c)"
   ]
  },
  {
   "cell_type": "code",
   "execution_count": 82,
   "metadata": {},
   "outputs": [
    {
     "name": "stdout",
     "output_type": "stream",
     "text": [
      "[[[1 4]\n",
      "  [2 5]\n",
      "  [3 6]]]\n"
     ]
    }
   ],
   "source": [
    "a = np.array([1, 2, 3])\n",
    "\n",
    "b = np.array([4, 5, 6])\n",
    "\n",
    "c = np.dstack((a, b))\n",
    "\n",
    "print(c)"
   ]
  },
  {
   "cell_type": "code",
   "execution_count": 83,
   "metadata": {},
   "outputs": [
    {
     "name": "stdout",
     "output_type": "stream",
     "text": [
      "[array([100, 250, 430, 500]), array([600, 700, 800, 900]), array([1000, 1100, 1200, 1300])]\n"
     ]
    }
   ],
   "source": [
    "a = np.array([100, 250, 430,500, 600, 700, 800,900, 1000, 1100,1200,1300])\n",
    "new_a = np.array_split(a,)\n",
    "print(new_a)"
   ]
  },
  {
   "cell_type": "code",
   "execution_count": 84,
   "metadata": {},
   "outputs": [
    {
     "name": "stdout",
     "output_type": "stream",
     "text": [
      "[array([100, 250, 430]), array([500, 600, 700]), array([ 800,  900, 1000]), array([1100, 1200, 1300])]\n"
     ]
    }
   ],
   "source": [
    "a = np.array([100, 250, 430,500, 600, 700, 800,900, 1000, 1100,1200,1300])\n",
    "new_a = np.array_split(a,4)\n",
    "print(new_a)"
   ]
  },
  {
   "cell_type": "code",
   "execution_count": 87,
   "metadata": {},
   "outputs": [
    {
     "name": "stdout",
     "output_type": "stream",
     "text": [
      "[100 250 430]\n",
      "[500 600 700]\n",
      "[ 800  900 1000]\n",
      "[1100 1200 1300]\n"
     ]
    }
   ],
   "source": [
    "a = np.array([100, 250, 430,500, 600, 700, 800,900, 1000, 1100,1200,1300])\n",
    "new_a = np.array_split(a,4)\n",
    "print(new_a[0])\n",
    "print(new_a[1])\n",
    "print(new_a[2])\n",
    "print(new_a[3])"
   ]
  },
  {
   "cell_type": "code",
   "execution_count": 89,
   "metadata": {},
   "outputs": [
    {
     "name": "stdout",
     "output_type": "stream",
     "text": [
      "[array([[ 1],\n",
      "       [ 4],\n",
      "       [ 7],\n",
      "       [10],\n",
      "       [13],\n",
      "       [16]]), array([[ 2],\n",
      "       [ 5],\n",
      "       [ 8],\n",
      "       [11],\n",
      "       [14],\n",
      "       [17]]), array([[ 3],\n",
      "       [ 6],\n",
      "       [ 9],\n",
      "       [12],\n",
      "       [15],\n",
      "       [18]])]\n"
     ]
    }
   ],
   "source": [
    "a = np.array([[1, 2, 3], [4, 5, 6], [7, 8, 9], [10, 11, 12], [13, 14, 15], [16, 17, 18]])\n",
    "new_a = np.hsplit(a,3)\n",
    "print(new_a)"
   ]
  },
  {
   "cell_type": "code",
   "execution_count": null,
   "metadata": {},
   "outputs": [],
   "source": [
    "#hstack, vstack, dstack, and vsplit and dsplit\n"
   ]
  },
  {
   "cell_type": "code",
   "execution_count": 93,
   "metadata": {},
   "outputs": [
    {
     "name": "stdout",
     "output_type": "stream",
     "text": [
      "(array([7], dtype=int64),)\n"
     ]
    }
   ],
   "source": [
    "a = np.array([100, 250, 430,500, 600, 700, 800,900, 1000, 1100,1200,1300])\n",
    "b = np.where(a==900)\n",
    "print(b)"
   ]
  },
  {
   "cell_type": "code",
   "execution_count": 95,
   "metadata": {},
   "outputs": [
    {
     "name": "stdout",
     "output_type": "stream",
     "text": [
      "(array([ 0,  1,  2,  5,  6,  8, 10, 11], dtype=int64),)\n"
     ]
    }
   ],
   "source": [
    "a = np.array([100, 250, 430,501, 607, 700, 800,909, 1000, 1101,1200,1300])\n",
    "b = np.where(a%2==0)\n",
    "print(b)"
   ]
  },
  {
   "cell_type": "code",
   "execution_count": 96,
   "metadata": {},
   "outputs": [
    {
     "name": "stdout",
     "output_type": "stream",
     "text": [
      "(array([3, 4, 7, 9], dtype=int64),)\n"
     ]
    }
   ],
   "source": [
    "a = np.array([100, 250, 430,501, 607, 700, 800,909, 1000, 1101,1200,1300])\n",
    "b = np.where(a%2==1)\n",
    "print(b)"
   ]
  },
  {
   "cell_type": "code",
   "execution_count": 99,
   "metadata": {},
   "outputs": [
    {
     "name": "stdout",
     "output_type": "stream",
     "text": [
      "1\n"
     ]
    }
   ],
   "source": [
    "a = np.array([6,7,8,9])\n",
    "b = np.searchsorted(a,7)\n",
    "print(b)"
   ]
  },
  {
   "cell_type": "code",
   "execution_count": 101,
   "metadata": {},
   "outputs": [
    {
     "name": "stdout",
     "output_type": "stream",
     "text": [
      "5\n"
     ]
    }
   ],
   "source": [
    "a = np.array([100, 250, 430,501, 607, 700, 800,909, 1000, 1101,1200,1300])\n",
    "b = np.searchsorted(a,607,side='right')\n",
    "print(b)"
   ]
  },
  {
   "cell_type": "code",
   "execution_count": 102,
   "metadata": {},
   "outputs": [
    {
     "name": "stdout",
     "output_type": "stream",
     "text": [
      "[ 250  430  607  800 1000 1100 1101 1200 1300 5001 7000 9009]\n"
     ]
    }
   ],
   "source": [
    "a = np.array([1100, 250, 430,5001, 607, 7000, 800,9009, 1000, 1101,1200,1300])\n",
    "print(np.sort(a))"
   ]
  },
  {
   "cell_type": "code",
   "execution_count": 105,
   "metadata": {},
   "outputs": [
    {
     "name": "stdout",
     "output_type": "stream",
     "text": [
      "[False  True  True]\n"
     ]
    }
   ],
   "source": [
    "a = np.array([True, False, True])\n",
    "print(np.sort(a))"
   ]
  },
  {
   "cell_type": "code",
   "execution_count": 106,
   "metadata": {},
   "outputs": [
    {
     "name": "stdout",
     "output_type": "stream",
     "text": [
      "[[2 3 4]\n",
      " [1 5 6]]\n"
     ]
    }
   ],
   "source": [
    "a = np.array([[3, 2, 4], [5, 6, 1]])\n",
    "print(np.sort(a))"
   ]
  },
  {
   "cell_type": "code",
   "execution_count": 107,
   "metadata": {},
   "outputs": [
    {
     "name": "stdout",
     "output_type": "stream",
     "text": [
      "[46 81]\n"
     ]
    }
   ],
   "source": [
    "a = np.array([46,57,81,90])\n",
    "b = [True, False, True, False]\n",
    "new_a = a[b]\n",
    "print(new_a)"
   ]
  },
  {
   "cell_type": "code",
   "execution_count": 110,
   "metadata": {},
   "outputs": [
    {
     "name": "stdout",
     "output_type": "stream",
     "text": [
      "[False, False, True, True, True, True]\n",
      "[ 23  28  60 400]\n"
     ]
    }
   ],
   "source": [
    "a = np.array([11, 12, 23, 28, 60, 400])\n",
    "\n",
    "# Create an empty list\n",
    "filter_a = []\n",
    "\n",
    "# go through each element in array\n",
    "for element in a:\n",
    "  # if the element is higher than 12, set the value to True, otherwise False:\n",
    "  if element > 12:\n",
    "    filter_a.append(True)\n",
    "  else:\n",
    "    filter_a.append(False)\n",
    "\n",
    "new_a = a[filter_a]\n",
    "\n",
    "print(filter_a)\n",
    "print(new_a) "
   ]
  },
  {
   "cell_type": "code",
   "execution_count": 111,
   "metadata": {},
   "outputs": [
    {
     "name": "stdout",
     "output_type": "stream",
     "text": [
      "[False, True, False, True, True, True]\n",
      "[ 12  28  60 400]\n"
     ]
    }
   ],
   "source": [
    "a = np.array([11, 12, 23, 28, 60, 400])\n",
    "\n",
    "# Create an empty list\n",
    "filter_a = []\n",
    "\n",
    "# go through each element in array\n",
    "for element in a:\n",
    "  # if the element is higher than 12, set the value to True, otherwise False:\n",
    "  if element %2 == 0:\n",
    "    filter_a.append(True)\n",
    "  else:\n",
    "    filter_a.append(False)\n",
    "\n",
    "new_a = a[filter_a]\n",
    "\n",
    "print(filter_a)\n",
    "print(new_a) "
   ]
  },
  {
   "cell_type": "code",
   "execution_count": 113,
   "metadata": {},
   "outputs": [
    {
     "name": "stdout",
     "output_type": "stream",
     "text": [
      "[False False  True  True  True  True]\n",
      "[ 23  28  60 400]\n"
     ]
    }
   ],
   "source": [
    "a = np.array([11, 12, 23, 28, 60, 400])\n",
    "\n",
    "filter_a = a >12\n",
    "new_a = a[filter_a]\n",
    "print(filter_a)\n",
    "print(new_a) "
   ]
  },
  {
   "cell_type": "code",
   "execution_count": 122,
   "metadata": {},
   "outputs": [
    {
     "name": "stdout",
     "output_type": "stream",
     "text": [
      "[93  7 80 83 94]\n"
     ]
    }
   ],
   "source": [
    "from numpy import random\n",
    "\n",
    "x=random.randint(100, size=(5))\n",
    "\n",
    "print(x)"
   ]
  },
  {
   "cell_type": "code",
   "execution_count": 123,
   "metadata": {},
   "outputs": [
    {
     "name": "stdout",
     "output_type": "stream",
     "text": [
      "[[95 89 51 63 39]\n",
      " [33 27 91 73 35]\n",
      " [ 3 44 51 87  1]]\n"
     ]
    }
   ],
   "source": [
    "x = random.randint(100, size=(3, 5))\n",
    "\n",
    "print(x) "
   ]
  },
  {
   "cell_type": "code",
   "execution_count": 124,
   "metadata": {},
   "outputs": [
    {
     "name": "stdout",
     "output_type": "stream",
     "text": [
      "[0.0363573  0.25910013 0.92046139 0.00637804 0.36023708]\n"
     ]
    }
   ],
   "source": [
    "x = random.rand(5)\n",
    "\n",
    "print(x) "
   ]
  },
  {
   "cell_type": "code",
   "execution_count": 125,
   "metadata": {},
   "outputs": [
    {
     "name": "stdout",
     "output_type": "stream",
     "text": [
      "[[0.96022998 0.39433531 0.20769712 0.96458179 0.12740675]\n",
      " [0.60233021 0.2672742  0.09824239 0.54464216 0.41179172]\n",
      " [0.37339588 0.15688458 0.89815864 0.52315466 0.23506308]]\n"
     ]
    }
   ],
   "source": [
    "x = random.rand(3, 5)\n",
    "\n",
    "print(x) "
   ]
  },
  {
   "cell_type": "code",
   "execution_count": 126,
   "metadata": {},
   "outputs": [
    {
     "name": "stdout",
     "output_type": "stream",
     "text": [
      "9\n"
     ]
    }
   ],
   "source": [
    "#choice()\n",
    "x = random.choice([3, 5, 7, 9])\n",
    "\n",
    "print(x)"
   ]
  },
  {
   "cell_type": "code",
   "execution_count": 127,
   "metadata": {},
   "outputs": [
    {
     "name": "stdout",
     "output_type": "stream",
     "text": [
      "[[5 7 3 9 5]\n",
      " [3 9 5 5 7]\n",
      " [7 9 3 3 5]]\n"
     ]
    }
   ],
   "source": [
    "x = random.choice([3, 5, 7, 9], size=(3, 5))\n",
    "\n",
    "print(x) "
   ]
  },
  {
   "cell_type": "code",
   "execution_count": 130,
   "metadata": {},
   "outputs": [
    {
     "name": "stdout",
     "output_type": "stream",
     "text": [
      "[7 7 7 7 5 7 7 7 5 5 5 5 7 5 3 7 5 5 7 5]\n"
     ]
    }
   ],
   "source": [
    "x = random.choice([3, 5, 7, 9], p=[0.1, 0.3, 0.6, 0.0], size=(20))\n",
    "\n",
    "print(x)"
   ]
  },
  {
   "cell_type": "code",
   "execution_count": 131,
   "metadata": {},
   "outputs": [
    {
     "name": "stdout",
     "output_type": "stream",
     "text": [
      "[[5 7 7 3 7]\n",
      " [5 7 7 5 7]\n",
      " [7 5 7 7 7]]\n"
     ]
    }
   ],
   "source": [
    "x = random.choice([3, 5, 7, 9], p=[0.1, 0.3, 0.6, 0.0], size=(3, 5))\n",
    "\n",
    "print(x) "
   ]
  },
  {
   "cell_type": "code",
   "execution_count": 133,
   "metadata": {},
   "outputs": [
    {
     "name": "stdout",
     "output_type": "stream",
     "text": [
      "[4 3 2 5 1]\n",
      "[4 1 5 2 3]\n"
     ]
    }
   ],
   "source": [
    "a = np.array([1, 2, 3, 4, 5])\n",
    "random.shuffle(a)\n",
    "print(a)\n",
    "print(random.permutation(a))"
   ]
  },
  {
   "cell_type": "code",
   "execution_count": 134,
   "metadata": {},
   "outputs": [
    {
     "data": {
      "image/png": "[encoded data removed]",
      "text/plain": [
       "<Figure size 432x288 with 1 Axes>"
      ]
     },
     "metadata": {
      "needs_background": "light"
     },
     "output_type": "display_data"
    }
   ],
   "source": [
    "import matplotlib.pyplot as plt\n",
    "import seaborn as sns\n",
    "sns.distplot([0, 1, 2, 3, 4, 5])\n",
    "\n",
    "plt.show()"
   ]
  },
  {
   "cell_type": "code",
   "execution_count": 135,
   "metadata": {},
   "outputs": [
    {
     "data": {
      "image/png": "[encoded data removed]",
      "text/plain": [
       "<Figure size 432x288 with 1 Axes>"
      ]
     },
     "metadata": {
      "needs_background": "light"
     },
     "output_type": "display_data"
    }
   ],
   "source": [
    "sns.distplot([0, 1, 2, 3, 4, 5], hist=False)\n",
    "\n",
    "plt.show()"
   ]
  },
  {
   "cell_type": "code",
   "execution_count": 136,
   "metadata": {},
   "outputs": [
    {
     "name": "stdout",
     "output_type": "stream",
     "text": [
      "[[-1.73018147  1.92333245 -0.120011  ]\n",
      " [-0.84805505  0.84863598 -0.06535059]]\n"
     ]
    }
   ],
   "source": [
    "x = random.normal(size=(2, 3))\n",
    "\n",
    "print(x)"
   ]
  },
  {
   "cell_type": "code",
   "execution_count": 137,
   "metadata": {},
   "outputs": [
    {
     "data": {
      "image/png": "[encoded data removed]",
      "text/plain": [
       "<Figure size 432x288 with 1 Axes>"
      ]
     },
     "metadata": {
      "needs_background": "light"
     },
     "output_type": "display_data"
    }
   ],
   "source": [
    "sns.distplot(random.normal(size=1000), hist=False)\n",
    "\n",
    "plt.show()"
   ]
  },
  {
   "cell_type": "code",
   "execution_count": 138,
   "metadata": {},
   "outputs": [
    {
     "data": {
      "image/png": "[encoded data removed]",
      "text/plain": [
       "<Figure size 432x288 with 1 Axes>"
      ]
     },
     "metadata": {
      "needs_background": "light"
     },
     "output_type": "display_data"
    }
   ],
   "source": [
    "sns.distplot(random.binomial(n=10, p=0.5, size=1000), hist=True, kde=False)\n",
    "\n",
    "plt.show() "
   ]
  },
  {
   "cell_type": "code",
   "execution_count": 139,
   "metadata": {},
   "outputs": [
    {
     "data": {
      "image/png": "[encoded data removed]",
      "text/plain": [
       "<Figure size 432x288 with 1 Axes>"
      ]
     },
     "metadata": {
      "needs_background": "light"
     },
     "output_type": "display_data"
    }
   ],
   "source": [
    "sns.distplot(random.normal(loc=50, scale=5, size=1000), hist=False, label='normal')\n",
    "sns.distplot(random.binomial(n=100, p=0.5, size=1000), hist=False, label='binomial')\n",
    "\n",
    "plt.show() "
   ]
  },
  {
   "cell_type": "code",
   "execution_count": 140,
   "metadata": {},
   "outputs": [
    {
     "data": {
      "image/png": "[encoded data removed]",
      "text/plain": [
       "<Figure size 432x288 with 1 Axes>"
      ]
     },
     "metadata": {
      "needs_background": "light"
     },
     "output_type": "display_data"
    }
   ],
   "source": [
    "sns.distplot(random.poisson(lam=2, size=1000), kde=False)\n",
    "\n",
    "plt.show()"
   ]
  },
  {
   "cell_type": "code",
   "execution_count": 141,
   "metadata": {},
   "outputs": [
    {
     "data": {
      "image/png": "[encoded data removed]",
      "text/plain": [
       "<Figure size 432x288 with 1 Axes>"
      ]
     },
     "metadata": {
      "needs_background": "light"
     },
     "output_type": "display_data"
    }
   ],
   "source": [
    "sns.distplot(random.normal(loc=50, scale=7, size=1000), hist=False, label='normal')\n",
    "sns.distplot(random.poisson(lam=50, size=1000), hist=False, label='poisson')\n",
    "plt.show()"
   ]
  },
  {
   "cell_type": "code",
   "execution_count": 142,
   "metadata": {},
   "outputs": [
    {
     "data": {
      "image/png": "[encoded data removed]",
      "text/plain": [
       "<Figure size 432x288 with 1 Axes>"
      ]
     },
     "metadata": {
      "needs_background": "light"
     },
     "output_type": "display_data"
    }
   ],
   "source": [
    "sns.distplot(random.binomial(n=1000, p=0.01, size=1000), hist=False, label='binomial')\n",
    "sns.distplot(random.poisson(lam=10, size=1000), hist=False, label='poisson')\n",
    "plt.show()"
   ]
  },
  {
   "cell_type": "code",
   "execution_count": 143,
   "metadata": {},
   "outputs": [
    {
     "data": {
      "image/png": "[encoded data removed]",
      "text/plain": [
       "<Figure size 432x288 with 1 Axes>"
      ]
     },
     "metadata": {
      "needs_background": "light"
     },
     "output_type": "display_data"
    }
   ],
   "source": [
    "sns.distplot(random.uniform(size=1000), hist=False)\n",
    "\n",
    "plt.show()"
   ]
  },
  {
   "cell_type": "code",
   "execution_count": 144,
   "metadata": {},
   "outputs": [
    {
     "data": {
      "image/png": "[encoded data removed]",
      "text/plain": [
       "<Figure size 432x288 with 1 Axes>"
      ]
     },
     "metadata": {
      "needs_background": "light"
     },
     "output_type": "display_data"
    }
   ],
   "source": [
    "sns.distplot(random.logistic(size=1000), hist=False)\n",
    "\n",
    "plt.show()"
   ]
  },
  {
   "cell_type": "code",
   "execution_count": 145,
   "metadata": {},
   "outputs": [
    {
     "data": {
      "image/png": "[encoded data removed]",
      "text/plain": [
       "<Figure size 432x288 with 1 Axes>"
      ]
     },
     "metadata": {
      "needs_background": "light"
     },
     "output_type": "display_data"
    }
   ],
   "source": [
    "sns.distplot(random.normal(scale=2, size=1000), hist=False, label='normal')\n",
    "sns.distplot(random.logistic(size=1000), hist=False, label='logistic')\n",
    "\n",
    "plt.show() "
   ]
  },
  {
   "cell_type": "code",
   "execution_count": 146,
   "metadata": {},
   "outputs": [
    {
     "data": {
      "image/png": "[encoded data removed]",
      "text/plain": [
       "<Figure size 432x288 with 1 Axes>"
      ]
     },
     "metadata": {
      "needs_background": "light"
     },
     "output_type": "display_data"
    }
   ],
   "source": [
    "sns.distplot(random.exponential(size=1000), hist=False)\n",
    "\n",
    "plt.show()"
   ]
  },
  {
   "cell_type": "code",
   "execution_count": null,
   "metadata": {},
   "outputs": [],
   "source": []
  }
 ],
 "metadata": {
  "kernelspec": {
   "display_name": "Python 3",
   "language": "python",
   "name": "python3"
  },
  "language_info": {
   "codemirror_mode": {
    "name": "ipython",
    "version": 3
   },
   "file_extension": ".py",
   "mimetype": "text/x-python",
   "name": "python",
   "nbconvert_exporter": "python",
   "pygments_lexer": "ipython3",
   "version": "3.7.6"
  }
 },
 "nbformat": 4,
 "nbformat_minor": 4
}
