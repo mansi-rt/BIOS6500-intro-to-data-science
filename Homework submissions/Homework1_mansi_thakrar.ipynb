{
 "cells": [
  {
   "cell_type": "code",
   "execution_count": 15,
   "metadata": {},
   "outputs": [],
   "source": [
    "import pandas as pd\n",
    "import numpy as np\n",
    "\n",
    "# Loading the dataset\n",
    "file_path = '/Users/mansi/Library/CloudStorage/GoogleDrive-drmansithakrar@gmail.com/My Drive/Google Drive Main/LSU/Semester 1/BIOS 6500 Special Topics in Biostatistics (Intro to Data Science)/movie_rating.csv'\n",
    "df = pd.read_csv(file_path)\n"
   ]
  },
  {
   "cell_type": "code",
   "execution_count": 16,
   "metadata": {},
   "outputs": [
    {
     "data": {
      "text/html": [
       "<div>\n",
       "<style scoped>\n",
       "    .dataframe tbody tr th:only-of-type {\n",
       "        vertical-align: middle;\n",
       "    }\n",
       "\n",
       "    .dataframe tbody tr th {\n",
       "        vertical-align: top;\n",
       "    }\n",
       "\n",
       "    .dataframe thead th {\n",
       "        text-align: right;\n",
       "    }\n",
       "</style>\n",
       "<table border=\"1\" class=\"dataframe\">\n",
       "  <thead>\n",
       "    <tr style=\"text-align: right;\">\n",
       "      <th></th>\n",
       "      <th>MovieID</th>\n",
       "      <th>Title</th>\n",
       "      <th>Genre</th>\n",
       "      <th>Director</th>\n",
       "      <th>Release Date</th>\n",
       "      <th>Production Budget</th>\n",
       "      <th>Worldwide Gross</th>\n",
       "      <th>UserRating</th>\n",
       "      <th>UserVotes</th>\n",
       "    </tr>\n",
       "  </thead>\n",
       "  <tbody>\n",
       "    <tr>\n",
       "      <th>0</th>\n",
       "      <td>1</td>\n",
       "      <td>Optional grid-enabled application</td>\n",
       "      <td>Comedy</td>\n",
       "      <td>Bruce Alexander</td>\n",
       "      <td>2006-09-09</td>\n",
       "      <td>34340314</td>\n",
       "      <td>786872517</td>\n",
       "      <td>2.8</td>\n",
       "      <td>335</td>\n",
       "    </tr>\n",
       "    <tr>\n",
       "      <th>1</th>\n",
       "      <td>2</td>\n",
       "      <td>Polarized tangible open architecture</td>\n",
       "      <td>Drama</td>\n",
       "      <td>Lauren Fleming</td>\n",
       "      <td>2008-03-07</td>\n",
       "      <td>134345545</td>\n",
       "      <td>520603593</td>\n",
       "      <td>3.1</td>\n",
       "      <td>3261</td>\n",
       "    </tr>\n",
       "    <tr>\n",
       "      <th>2</th>\n",
       "      <td>3</td>\n",
       "      <td>Ergonomic multi-state architecture</td>\n",
       "      <td>Drama</td>\n",
       "      <td>Mark Sanchez</td>\n",
       "      <td>2000-06-14</td>\n",
       "      <td>118514344</td>\n",
       "      <td>33307697</td>\n",
       "      <td>4.9</td>\n",
       "      <td>100</td>\n",
       "    </tr>\n",
       "    <tr>\n",
       "      <th>3</th>\n",
       "      <td>4</td>\n",
       "      <td>Multi-lateral bifurcated projection</td>\n",
       "      <td>Thriller</td>\n",
       "      <td>Scott Walton</td>\n",
       "      <td>2003-11-06</td>\n",
       "      <td>2092515</td>\n",
       "      <td>428853814</td>\n",
       "      <td>3.5</td>\n",
       "      <td>3958</td>\n",
       "    </tr>\n",
       "    <tr>\n",
       "      <th>4</th>\n",
       "      <td>5</td>\n",
       "      <td>Customer-focused multimedia alliance</td>\n",
       "      <td>Comedy</td>\n",
       "      <td>Kathleen Garcia</td>\n",
       "      <td>2009-01-21</td>\n",
       "      <td>156702954</td>\n",
       "      <td>718392242</td>\n",
       "      <td>1.7</td>\n",
       "      <td>766</td>\n",
       "    </tr>\n",
       "  </tbody>\n",
       "</table>\n",
       "</div>"
      ],
      "text/plain": [
       "   MovieID                                 Title     Genre         Director  \\\n",
       "0        1     Optional grid-enabled application    Comedy  Bruce Alexander   \n",
       "1        2  Polarized tangible open architecture     Drama   Lauren Fleming   \n",
       "2        3    Ergonomic multi-state architecture     Drama     Mark Sanchez   \n",
       "3        4   Multi-lateral bifurcated projection  Thriller     Scott Walton   \n",
       "4        5  Customer-focused multimedia alliance    Comedy  Kathleen Garcia   \n",
       "\n",
       "  Release Date  Production Budget  Worldwide Gross  UserRating  UserVotes  \n",
       "0   2006-09-09           34340314        786872517         2.8        335  \n",
       "1   2008-03-07          134345545        520603593         3.1       3261  \n",
       "2   2000-06-14          118514344         33307697         4.9        100  \n",
       "3   2003-11-06            2092515        428853814         3.5       3958  \n",
       "4   2009-01-21          156702954        718392242         1.7        766  "
      ]
     },
     "execution_count": 16,
     "metadata": {},
     "output_type": "execute_result"
    }
   ],
   "source": [
    "# Task 1: Reading Data\n",
    "df.head()"
   ]
  },
  {
   "cell_type": "code",
   "execution_count": 13,
   "metadata": {},
   "outputs": [
    {
     "data": {
      "text/plain": [
       "(300, 9)"
      ]
     },
     "execution_count": 13,
     "metadata": {},
     "output_type": "execute_result"
    }
   ],
   "source": [
    "# Task 2: Data Overview: Getting the number of rows and columns, column names, and data types\n",
    "# Displaying the number of rows and columns\n",
    "df.shape"
   ]
  },
  {
   "cell_type": "code",
   "execution_count": 14,
   "metadata": {},
   "outputs": [
    {
     "data": {
      "text/plain": [
       "MovieID                int64\n",
       "Title                 object\n",
       "Genre                 object\n",
       "Director              object\n",
       "Release Date          object\n",
       "Production Budget      int64\n",
       "Worldwide Gross        int64\n",
       "UserRating           float64\n",
       "UserVotes              int64\n",
       "dtype: object"
      ]
     },
     "execution_count": 14,
     "metadata": {},
     "output_type": "execute_result"
    }
   ],
   "source": [
    "# Displaying the column names and their corresponding data types\n",
    "df.dtypes"
   ]
  },
  {
   "cell_type": "code",
   "execution_count": 17,
   "metadata": {},
   "outputs": [
    {
     "data": {
      "text/plain": [
       "MovieID              0\n",
       "Title                0\n",
       "Genre                0\n",
       "Director             0\n",
       "Release Date         0\n",
       "Production Budget    0\n",
       "Worldwide Gross      0\n",
       "UserRating           0\n",
       "UserVotes            0\n",
       "dtype: int64"
      ]
     },
     "execution_count": 17,
     "metadata": {},
     "output_type": "execute_result"
    }
   ],
   "source": [
    "# Task3 Handling missing data\n",
    "# Checking for missing values\n",
    "df.isnull().sum()"
   ]
  },
  {
   "cell_type": "code",
   "execution_count": 19,
   "metadata": {},
   "outputs": [],
   "source": [
    "# Although there are no missing values we could have replaced it, if there were any\n",
    "df['Worldwide Gross'] = df['Worldwide Gross'].fillna(df['Worldwide Gross'].mean())\n",
    "df_cleaned = df.dropna()"
   ]
  },
  {
   "cell_type": "code",
   "execution_count": 20,
   "metadata": {},
   "outputs": [],
   "source": [
    "# Task 4 Data Type Conversion\n",
    "# Converting 'Release Date' column to datetime type\n",
    "df['Release Date'] = pd.to_datetime(df['Release Date'])"
   ]
  },
  {
   "cell_type": "code",
   "execution_count": 21,
   "metadata": {},
   "outputs": [],
   "source": [
    "# Creating a new column 'Release Year' by extracting the year from 'Release Date'\n",
    "df['Release Year'] = df['Release Date'].dt.year"
   ]
  },
  {
   "cell_type": "code",
   "execution_count": 26,
   "metadata": {},
   "outputs": [
    {
     "name": "stdout",
     "output_type": "stream",
     "text": [
      "477825276.29333335\n",
      "480290922.5\n",
      "292212891.7648827\n",
      "100501990.69\n",
      "98047785.0\n",
      "57028770.15648792\n"
     ]
    }
   ],
   "source": [
    "# Task 5 Calculating Statistics\n",
    "# Computing mean, median, and standard deviation for 'Worldwide Gross' and 'Production Budget'\n",
    "print(df['Worldwide Gross'].mean())\n",
    "print(df['Worldwide Gross'].median())\n",
    "print(df['Worldwide Gross'].std())\n",
    "print(df['Production Budget'].mean())\n",
    "print(df['Production Budget'].median())\n",
    "print(df['Production Budget'].std())"
   ]
  },
  {
   "cell_type": "code",
   "execution_count": 29,
   "metadata": {},
   "outputs": [
    {
     "data": {
      "text/html": [
       "<div>\n",
       "<style scoped>\n",
       "    .dataframe tbody tr th:only-of-type {\n",
       "        vertical-align: middle;\n",
       "    }\n",
       "\n",
       "    .dataframe tbody tr th {\n",
       "        vertical-align: top;\n",
       "    }\n",
       "\n",
       "    .dataframe thead th {\n",
       "        text-align: right;\n",
       "    }\n",
       "</style>\n",
       "<table border=\"1\" class=\"dataframe\">\n",
       "  <thead>\n",
       "    <tr style=\"text-align: right;\">\n",
       "      <th></th>\n",
       "      <th>MovieID</th>\n",
       "      <th>Title</th>\n",
       "      <th>Genre</th>\n",
       "      <th>Director</th>\n",
       "      <th>Release Date</th>\n",
       "      <th>Production Budget</th>\n",
       "      <th>Worldwide Gross</th>\n",
       "      <th>UserRating</th>\n",
       "      <th>UserVotes</th>\n",
       "      <th>Release Year</th>\n",
       "      <th>Profit</th>\n",
       "    </tr>\n",
       "  </thead>\n",
       "  <tbody>\n",
       "    <tr>\n",
       "      <th>0</th>\n",
       "      <td>1</td>\n",
       "      <td>Optional grid-enabled application</td>\n",
       "      <td>Comedy</td>\n",
       "      <td>Bruce Alexander</td>\n",
       "      <td>2006-09-09</td>\n",
       "      <td>34340314</td>\n",
       "      <td>786872517</td>\n",
       "      <td>2.8</td>\n",
       "      <td>335</td>\n",
       "      <td>2006</td>\n",
       "      <td>752532203</td>\n",
       "    </tr>\n",
       "    <tr>\n",
       "      <th>1</th>\n",
       "      <td>2</td>\n",
       "      <td>Polarized tangible open architecture</td>\n",
       "      <td>Drama</td>\n",
       "      <td>Lauren Fleming</td>\n",
       "      <td>2008-03-07</td>\n",
       "      <td>134345545</td>\n",
       "      <td>520603593</td>\n",
       "      <td>3.1</td>\n",
       "      <td>3261</td>\n",
       "      <td>2008</td>\n",
       "      <td>386258048</td>\n",
       "    </tr>\n",
       "    <tr>\n",
       "      <th>2</th>\n",
       "      <td>3</td>\n",
       "      <td>Ergonomic multi-state architecture</td>\n",
       "      <td>Drama</td>\n",
       "      <td>Mark Sanchez</td>\n",
       "      <td>2000-06-14</td>\n",
       "      <td>118514344</td>\n",
       "      <td>33307697</td>\n",
       "      <td>4.9</td>\n",
       "      <td>100</td>\n",
       "      <td>2000</td>\n",
       "      <td>-85206647</td>\n",
       "    </tr>\n",
       "    <tr>\n",
       "      <th>3</th>\n",
       "      <td>4</td>\n",
       "      <td>Multi-lateral bifurcated projection</td>\n",
       "      <td>Thriller</td>\n",
       "      <td>Scott Walton</td>\n",
       "      <td>2003-11-06</td>\n",
       "      <td>2092515</td>\n",
       "      <td>428853814</td>\n",
       "      <td>3.5</td>\n",
       "      <td>3958</td>\n",
       "      <td>2003</td>\n",
       "      <td>426761299</td>\n",
       "    </tr>\n",
       "    <tr>\n",
       "      <th>4</th>\n",
       "      <td>5</td>\n",
       "      <td>Customer-focused multimedia alliance</td>\n",
       "      <td>Comedy</td>\n",
       "      <td>Kathleen Garcia</td>\n",
       "      <td>2009-01-21</td>\n",
       "      <td>156702954</td>\n",
       "      <td>718392242</td>\n",
       "      <td>1.7</td>\n",
       "      <td>766</td>\n",
       "      <td>2009</td>\n",
       "      <td>561689288</td>\n",
       "    </tr>\n",
       "  </tbody>\n",
       "</table>\n",
       "</div>"
      ],
      "text/plain": [
       "   MovieID                                 Title     Genre         Director  \\\n",
       "0        1     Optional grid-enabled application    Comedy  Bruce Alexander   \n",
       "1        2  Polarized tangible open architecture     Drama   Lauren Fleming   \n",
       "2        3    Ergonomic multi-state architecture     Drama     Mark Sanchez   \n",
       "3        4   Multi-lateral bifurcated projection  Thriller     Scott Walton   \n",
       "4        5  Customer-focused multimedia alliance    Comedy  Kathleen Garcia   \n",
       "\n",
       "  Release Date  Production Budget  Worldwide Gross  UserRating  UserVotes  \\\n",
       "0   2006-09-09           34340314        786872517         2.8        335   \n",
       "1   2008-03-07          134345545        520603593         3.1       3261   \n",
       "2   2000-06-14          118514344         33307697         4.9        100   \n",
       "3   2003-11-06            2092515        428853814         3.5       3958   \n",
       "4   2009-01-21          156702954        718392242         1.7        766   \n",
       "\n",
       "   Release Year     Profit  \n",
       "0          2006  752532203  \n",
       "1          2008  386258048  \n",
       "2          2000  -85206647  \n",
       "3          2003  426761299  \n",
       "4          2009  561689288  "
      ]
     },
     "execution_count": 29,
     "metadata": {},
     "output_type": "execute_result"
    }
   ],
   "source": [
    "# Task 6 Creating new columns\n",
    "# Creating a new column named Profit that calculates the difference between ’Worldwide Gross’ and ’Production Budget’.\n",
    "df['Profit'] = df['Worldwide Gross'] - df['Production Budget']\n",
    "df.head()"
   ]
  },
  {
   "cell_type": "code",
   "execution_count": 30,
   "metadata": {},
   "outputs": [
    {
     "data": {
      "text/html": [
       "<div>\n",
       "<style scoped>\n",
       "    .dataframe tbody tr th:only-of-type {\n",
       "        vertical-align: middle;\n",
       "    }\n",
       "\n",
       "    .dataframe tbody tr th {\n",
       "        vertical-align: top;\n",
       "    }\n",
       "\n",
       "    .dataframe thead th {\n",
       "        text-align: right;\n",
       "    }\n",
       "</style>\n",
       "<table border=\"1\" class=\"dataframe\">\n",
       "  <thead>\n",
       "    <tr style=\"text-align: right;\">\n",
       "      <th></th>\n",
       "      <th>MovieID</th>\n",
       "      <th>Title</th>\n",
       "      <th>Genre</th>\n",
       "      <th>Director</th>\n",
       "      <th>Release Date</th>\n",
       "      <th>Production Budget</th>\n",
       "      <th>Worldwide Gross</th>\n",
       "      <th>UserRating</th>\n",
       "      <th>UserVotes</th>\n",
       "      <th>Release Year</th>\n",
       "      <th>Profit</th>\n",
       "    </tr>\n",
       "  </thead>\n",
       "  <tbody>\n",
       "    <tr>\n",
       "      <th>0</th>\n",
       "      <td>1</td>\n",
       "      <td>Optional grid-enabled application</td>\n",
       "      <td>Comedy</td>\n",
       "      <td>Bruce Alexander</td>\n",
       "      <td>2006-09-09</td>\n",
       "      <td>34340314</td>\n",
       "      <td>786872517</td>\n",
       "      <td>2.8</td>\n",
       "      <td>335</td>\n",
       "      <td>2006</td>\n",
       "      <td>752532203</td>\n",
       "    </tr>\n",
       "    <tr>\n",
       "      <th>1</th>\n",
       "      <td>2</td>\n",
       "      <td>Polarized tangible open architecture</td>\n",
       "      <td>Drama</td>\n",
       "      <td>Lauren Fleming</td>\n",
       "      <td>2008-03-07</td>\n",
       "      <td>134345545</td>\n",
       "      <td>520603593</td>\n",
       "      <td>3.1</td>\n",
       "      <td>3261</td>\n",
       "      <td>2008</td>\n",
       "      <td>386258048</td>\n",
       "    </tr>\n",
       "    <tr>\n",
       "      <th>3</th>\n",
       "      <td>4</td>\n",
       "      <td>Multi-lateral bifurcated projection</td>\n",
       "      <td>Thriller</td>\n",
       "      <td>Scott Walton</td>\n",
       "      <td>2003-11-06</td>\n",
       "      <td>2092515</td>\n",
       "      <td>428853814</td>\n",
       "      <td>3.5</td>\n",
       "      <td>3958</td>\n",
       "      <td>2003</td>\n",
       "      <td>426761299</td>\n",
       "    </tr>\n",
       "    <tr>\n",
       "      <th>4</th>\n",
       "      <td>5</td>\n",
       "      <td>Customer-focused multimedia alliance</td>\n",
       "      <td>Comedy</td>\n",
       "      <td>Kathleen Garcia</td>\n",
       "      <td>2009-01-21</td>\n",
       "      <td>156702954</td>\n",
       "      <td>718392242</td>\n",
       "      <td>1.7</td>\n",
       "      <td>766</td>\n",
       "      <td>2009</td>\n",
       "      <td>561689288</td>\n",
       "    </tr>\n",
       "    <tr>\n",
       "      <th>5</th>\n",
       "      <td>6</td>\n",
       "      <td>Object-based interactive moderator</td>\n",
       "      <td>Thriller</td>\n",
       "      <td>Melissa Rodriguez</td>\n",
       "      <td>2011-09-01</td>\n",
       "      <td>101026937</td>\n",
       "      <td>317660431</td>\n",
       "      <td>1.7</td>\n",
       "      <td>1961</td>\n",
       "      <td>2011</td>\n",
       "      <td>216633494</td>\n",
       "    </tr>\n",
       "  </tbody>\n",
       "</table>\n",
       "</div>"
      ],
      "text/plain": [
       "   MovieID                                 Title     Genre           Director  \\\n",
       "0        1     Optional grid-enabled application    Comedy    Bruce Alexander   \n",
       "1        2  Polarized tangible open architecture     Drama     Lauren Fleming   \n",
       "3        4   Multi-lateral bifurcated projection  Thriller       Scott Walton   \n",
       "4        5  Customer-focused multimedia alliance    Comedy    Kathleen Garcia   \n",
       "5        6    Object-based interactive moderator  Thriller  Melissa Rodriguez   \n",
       "\n",
       "  Release Date  Production Budget  Worldwide Gross  UserRating  UserVotes  \\\n",
       "0   2006-09-09           34340314        786872517         2.8        335   \n",
       "1   2008-03-07          134345545        520603593         3.1       3261   \n",
       "3   2003-11-06            2092515        428853814         3.5       3958   \n",
       "4   2009-01-21          156702954        718392242         1.7        766   \n",
       "5   2011-09-01          101026937        317660431         1.7       1961   \n",
       "\n",
       "   Release Year     Profit  \n",
       "0          2006  752532203  \n",
       "1          2008  386258048  \n",
       "3          2003  426761299  \n",
       "4          2009  561689288  \n",
       "5          2011  216633494  "
      ]
     },
     "execution_count": 30,
     "metadata": {},
     "output_type": "execute_result"
    }
   ],
   "source": [
    "# Task 7 filtering and subsetting data\n",
    "# Filtering the DataFrame to include only movies released after the year 2000\n",
    "df_after_2000 = df[df['Release Year'] > 2000]\n",
    "\n",
    "# Saved new DataFrame\n",
    "df_after_2000.head()"
   ]
  },
  {
   "cell_type": "code",
   "execution_count": 37,
   "metadata": {},
   "outputs": [
    {
     "data": {
      "text/plain": [
       "<Axes: xlabel='UserRating', ylabel='Count'>"
      ]
     },
     "execution_count": 37,
     "metadata": {},
     "output_type": "execute_result"
    },
    {
     "data": {
      "image/png": "[encoded data removed]",
      "text/plain": [
       "<Figure size 640x480 with 1 Axes>"
      ]
     },
     "metadata": {},
     "output_type": "display_data"
    }
   ],
   "source": [
    "# task 8 Data visualization\n",
    "# Creating a simple visualization (e.g., a histogram or bar plot) showing the distribution of the ’IMDB Rating’ column using matplotlib or seaborn.\n",
    "import matplotlib.pyplot as plt\n",
    "import seaborn as sns\n",
    "\n",
    "# Histogram for the 'UserRating' column (since there is no IMDB column in the dataframe)\n",
    "sns.histplot(df['UserRating'], bins=10)"
   ]
  },
  {
   "cell_type": "code",
   "execution_count": 40,
   "metadata": {},
   "outputs": [
    {
     "data": {
      "text/html": [
       "<div>\n",
       "<style scoped>\n",
       "    .dataframe tbody tr th:only-of-type {\n",
       "        vertical-align: middle;\n",
       "    }\n",
       "\n",
       "    .dataframe tbody tr th {\n",
       "        vertical-align: top;\n",
       "    }\n",
       "\n",
       "    .dataframe thead th {\n",
       "        text-align: right;\n",
       "    }\n",
       "</style>\n",
       "<table border=\"1\" class=\"dataframe\">\n",
       "  <thead>\n",
       "    <tr style=\"text-align: right;\">\n",
       "      <th></th>\n",
       "      <th>MovieID</th>\n",
       "      <th>Title</th>\n",
       "      <th>Genre</th>\n",
       "      <th>Director</th>\n",
       "      <th>Release Date</th>\n",
       "      <th>Production Budget</th>\n",
       "      <th>Worldwide Gross</th>\n",
       "      <th>UserRating</th>\n",
       "      <th>UserVotes</th>\n",
       "      <th>Release Year</th>\n",
       "      <th>Profit</th>\n",
       "    </tr>\n",
       "  </thead>\n",
       "  <tbody>\n",
       "  </tbody>\n",
       "</table>\n",
       "</div>"
      ],
      "text/plain": [
       "Empty DataFrame\n",
       "Columns: [MovieID, Title, Genre, Director, Release Date, Production Budget, Worldwide Gross, UserRating, UserVotes, Release Year, Profit]\n",
       "Index: []"
      ]
     },
     "execution_count": 40,
     "metadata": {},
     "output_type": "execute_result"
    }
   ],
   "source": [
    "# Task 9 Data quality analysis\n",
    "# Checking for duplicate rows in the dataset\n",
    "df[df.duplicated()]"
   ]
  },
  {
   "cell_type": "code",
   "execution_count": 41,
   "metadata": {},
   "outputs": [
    {
     "data": {
      "text/html": [
       "<div>\n",
       "<style scoped>\n",
       "    .dataframe tbody tr th:only-of-type {\n",
       "        vertical-align: middle;\n",
       "    }\n",
       "\n",
       "    .dataframe tbody tr th {\n",
       "        vertical-align: top;\n",
       "    }\n",
       "\n",
       "    .dataframe thead th {\n",
       "        text-align: right;\n",
       "    }\n",
       "</style>\n",
       "<table border=\"1\" class=\"dataframe\">\n",
       "  <thead>\n",
       "    <tr style=\"text-align: right;\">\n",
       "      <th></th>\n",
       "      <th>MovieID</th>\n",
       "      <th>Release Date</th>\n",
       "      <th>Production Budget</th>\n",
       "      <th>Worldwide Gross</th>\n",
       "      <th>UserRating</th>\n",
       "      <th>UserVotes</th>\n",
       "      <th>Release Year</th>\n",
       "      <th>Profit</th>\n",
       "    </tr>\n",
       "  </thead>\n",
       "  <tbody>\n",
       "    <tr>\n",
       "      <th>count</th>\n",
       "      <td>300.000000</td>\n",
       "      <td>300</td>\n",
       "      <td>3.000000e+02</td>\n",
       "      <td>3.000000e+02</td>\n",
       "      <td>300.000000</td>\n",
       "      <td>300.000000</td>\n",
       "      <td>300.000000</td>\n",
       "      <td>3.000000e+02</td>\n",
       "    </tr>\n",
       "    <tr>\n",
       "      <th>mean</th>\n",
       "      <td>150.500000</td>\n",
       "      <td>2009-12-14 09:16:48</td>\n",
       "      <td>1.005020e+08</td>\n",
       "      <td>4.778253e+08</td>\n",
       "      <td>2.952333</td>\n",
       "      <td>2569.110000</td>\n",
       "      <td>2009.443333</td>\n",
       "      <td>3.773233e+08</td>\n",
       "    </tr>\n",
       "    <tr>\n",
       "      <th>min</th>\n",
       "      <td>1.000000</td>\n",
       "      <td>1994-09-19 00:00:00</td>\n",
       "      <td>1.291883e+06</td>\n",
       "      <td>2.002365e+06</td>\n",
       "      <td>1.000000</td>\n",
       "      <td>100.000000</td>\n",
       "      <td>1994.000000</td>\n",
       "      <td>-1.856767e+08</td>\n",
       "    </tr>\n",
       "    <tr>\n",
       "      <th>25%</th>\n",
       "      <td>75.750000</td>\n",
       "      <td>2002-09-16 12:00:00</td>\n",
       "      <td>5.402644e+07</td>\n",
       "      <td>2.235842e+08</td>\n",
       "      <td>1.875000</td>\n",
       "      <td>1412.500000</td>\n",
       "      <td>2002.000000</td>\n",
       "      <td>1.158219e+08</td>\n",
       "    </tr>\n",
       "    <tr>\n",
       "      <th>50%</th>\n",
       "      <td>150.500000</td>\n",
       "      <td>2009-07-26 00:00:00</td>\n",
       "      <td>9.804778e+07</td>\n",
       "      <td>4.802909e+08</td>\n",
       "      <td>2.900000</td>\n",
       "      <td>2535.000000</td>\n",
       "      <td>2009.000000</td>\n",
       "      <td>3.486860e+08</td>\n",
       "    </tr>\n",
       "    <tr>\n",
       "      <th>75%</th>\n",
       "      <td>225.250000</td>\n",
       "      <td>2016-11-11 12:00:00</td>\n",
       "      <td>1.500072e+08</td>\n",
       "      <td>7.286543e+08</td>\n",
       "      <td>4.000000</td>\n",
       "      <td>3770.500000</td>\n",
       "      <td>2016.000000</td>\n",
       "      <td>6.246488e+08</td>\n",
       "    </tr>\n",
       "    <tr>\n",
       "      <th>max</th>\n",
       "      <td>300.000000</td>\n",
       "      <td>2024-09-17 00:00:00</td>\n",
       "      <td>1.987327e+08</td>\n",
       "      <td>9.991859e+08</td>\n",
       "      <td>5.000000</td>\n",
       "      <td>4997.000000</td>\n",
       "      <td>2024.000000</td>\n",
       "      <td>9.841790e+08</td>\n",
       "    </tr>\n",
       "    <tr>\n",
       "      <th>std</th>\n",
       "      <td>86.746758</td>\n",
       "      <td>NaN</td>\n",
       "      <td>5.702877e+07</td>\n",
       "      <td>2.922129e+08</td>\n",
       "      <td>1.204740</td>\n",
       "      <td>1380.773354</td>\n",
       "      <td>8.334567</td>\n",
       "      <td>3.005256e+08</td>\n",
       "    </tr>\n",
       "  </tbody>\n",
       "</table>\n",
       "</div>"
      ],
      "text/plain": [
       "          MovieID         Release Date  Production Budget  Worldwide Gross  \\\n",
       "count  300.000000                  300       3.000000e+02     3.000000e+02   \n",
       "mean   150.500000  2009-12-14 09:16:48       1.005020e+08     4.778253e+08   \n",
       "min      1.000000  1994-09-19 00:00:00       1.291883e+06     2.002365e+06   \n",
       "25%     75.750000  2002-09-16 12:00:00       5.402644e+07     2.235842e+08   \n",
       "50%    150.500000  2009-07-26 00:00:00       9.804778e+07     4.802909e+08   \n",
       "75%    225.250000  2016-11-11 12:00:00       1.500072e+08     7.286543e+08   \n",
       "max    300.000000  2024-09-17 00:00:00       1.987327e+08     9.991859e+08   \n",
       "std     86.746758                  NaN       5.702877e+07     2.922129e+08   \n",
       "\n",
       "       UserRating    UserVotes  Release Year        Profit  \n",
       "count  300.000000   300.000000    300.000000  3.000000e+02  \n",
       "mean     2.952333  2569.110000   2009.443333  3.773233e+08  \n",
       "min      1.000000   100.000000   1994.000000 -1.856767e+08  \n",
       "25%      1.875000  1412.500000   2002.000000  1.158219e+08  \n",
       "50%      2.900000  2535.000000   2009.000000  3.486860e+08  \n",
       "75%      4.000000  3770.500000   2016.000000  6.246488e+08  \n",
       "max      5.000000  4997.000000   2024.000000  9.841790e+08  \n",
       "std      1.204740  1380.773354      8.334567  3.005256e+08  "
      ]
     },
     "execution_count": 41,
     "metadata": {},
     "output_type": "execute_result"
    }
   ],
   "source": [
    "# Creating a summary statistics table\n",
    "df.describe()"
   ]
  },
  {
   "cell_type": "code",
   "execution_count": 44,
   "metadata": {},
   "outputs": [
    {
     "data": {
      "text/html": [
       "<div>\n",
       "<style scoped>\n",
       "    .dataframe tbody tr th:only-of-type {\n",
       "        vertical-align: middle;\n",
       "    }\n",
       "\n",
       "    .dataframe tbody tr th {\n",
       "        vertical-align: top;\n",
       "    }\n",
       "\n",
       "    .dataframe thead th {\n",
       "        text-align: right;\n",
       "    }\n",
       "</style>\n",
       "<table border=\"1\" class=\"dataframe\">\n",
       "  <thead>\n",
       "    <tr style=\"text-align: right;\">\n",
       "      <th></th>\n",
       "      <th>MovieID</th>\n",
       "      <th>Title</th>\n",
       "      <th>Genre</th>\n",
       "      <th>Director</th>\n",
       "      <th>Release Date</th>\n",
       "      <th>Production Budget</th>\n",
       "      <th>Worldwide Gross</th>\n",
       "      <th>UserRating</th>\n",
       "      <th>UserVotes</th>\n",
       "      <th>Release Year</th>\n",
       "      <th>Profit</th>\n",
       "    </tr>\n",
       "  </thead>\n",
       "  <tbody>\n",
       "  </tbody>\n",
       "</table>\n",
       "</div>"
      ],
      "text/plain": [
       "Empty DataFrame\n",
       "Columns: [MovieID, Title, Genre, Director, Release Date, Production Budget, Worldwide Gross, UserRating, UserVotes, Release Year, Profit]\n",
       "Index: []"
      ]
     },
     "execution_count": 44,
     "metadata": {},
     "output_type": "execute_result"
    }
   ],
   "source": [
    "# Checking for negative values in 'Worldwide Gross' and 'Production Budget'\n",
    "df[df['Worldwide Gross'] < 0]\n",
    "df[df['Production Budget'] < 0]"
   ]
  },
  {
   "cell_type": "code",
   "execution_count": 42,
   "metadata": {},
   "outputs": [
    {
     "data": {
      "text/plain": [
       "array(['Comedy', 'Drama', 'Thriller', 'Horror', 'Sci-Fi', 'Romance',\n",
       "       'Fantasy', 'Action'], dtype=object)"
      ]
     },
     "execution_count": 42,
     "metadata": {},
     "output_type": "execute_result"
    }
   ],
   "source": [
    "# Checking for inconsistencies or inaccurate text data\n",
    "df['Genre'].unique()"
   ]
  },
  {
   "cell_type": "code",
   "execution_count": 43,
   "metadata": {},
   "outputs": [],
   "source": [
    "# THANKYOU!"
   ]
  }
 ],
 "metadata": {
  "kernelspec": {
   "display_name": "Python 3.10.8 64-bit",
   "language": "python",
   "name": "python3"
  },
  "language_info": {
   "codemirror_mode": {
    "name": "ipython",
    "version": 3
   },
   "file_extension": ".py",
   "mimetype": "text/x-python",
   "name": "python",
   "nbconvert_exporter": "python",
   "pygments_lexer": "ipython3",
   "version": "3.10.8"
  },
  "orig_nbformat": 4,
  "vscode": {
   "interpreter": {
    "hash": "7e1998ff7f8aa20ada591c520b972326324e5ea05489af9e422744c7c09f6dad"
   }
  }
 },
 "nbformat": 4,
 "nbformat_minor": 2
}
