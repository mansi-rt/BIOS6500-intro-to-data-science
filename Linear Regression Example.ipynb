{
  "cells": [
    {
      "cell_type": "markdown",
      "metadata": {},
      "source": [
        "\n",
        "In the example provided, we work with the diabetes dataset, but to keep things simple, we focus on just the first feature. This allows us to easily visualize the data points and plot them in two dimensions. The linear regression model draws a straight line that attempts to minimize the differences (known as residuals) between the actual disease progression values and the values predicted by the model.\n",
        "\n",
        "The process includes calculating the line's coefficients (which define its slope and intercept), the residual sum of squares (a measure of error between the actual and predicted values), and the coefficient of determination (R²), which tells us how well the line fits the data.\n"
      ]
    },
    {
      "cell_type": "code",
      "execution_count": 10,
      "metadata": {},
      "outputs": [
        {
          "name": "stdout",
          "output_type": "stream",
          "text": [
            "Requirement already satisfied: scikit-learn in c:\\users\\user\\appdata\\local\\programs\\python\\python310\\lib\\site-packages (1.5.2)\n",
            "Requirement already satisfied: numpy>=1.19.5 in c:\\users\\user\\appdata\\local\\programs\\python\\python310\\lib\\site-packages (from scikit-learn) (1.26.4)\n",
            "Requirement already satisfied: scipy>=1.6.0 in c:\\users\\user\\appdata\\local\\programs\\python\\python310\\lib\\site-packages (from scikit-learn) (1.14.1)\n",
            "Requirement already satisfied: joblib>=1.2.0 in c:\\users\\user\\appdata\\local\\programs\\python\\python310\\lib\\site-packages (from scikit-learn) (1.4.2)\n",
            "Requirement already satisfied: threadpoolctl>=3.1.0 in c:\\users\\user\\appdata\\local\\programs\\python\\python310\\lib\\site-packages (from scikit-learn) (3.5.0)\n",
            "Note: you may need to restart the kernel to use updated packages.\n"
          ]
        }
      ],
      "source": [
        "pip install scikit-learn"
      ]
    },
    {
      "cell_type": "code",
      "execution_count": 11,
      "metadata": {
        "collapsed": false
      },
      "outputs": [
        {
          "name": "stdout",
          "output_type": "stream",
          "text": [
            "Coefficients (Slope of the regression line): [938.23786125]\n",
            "Mean Squared Error (MSE): 2548.07\n",
            "R² Score (Coefficient of Determination): 0.47\n"
          ]
        },
        {
          "data": {
            "image/png": "[encoded data removed]",
            "text/plain": [
              "<Figure size 432x288 with 1 Axes>"
            ]
          },
          "metadata": {
            "needs_background": "light"
          },
          "output_type": "display_data"
        }
      ],
      "source": [
        "# Importing necessary libraries\n",
        "import matplotlib.pyplot as plt  # For plotting\n",
        "import numpy as np  # For numerical operations\n",
        "# Importing required modules from sklearn\n",
        "from sklearn import datasets, linear_model  # Datasets and linear regression model\n",
        "from sklearn.metrics import mean_squared_error, r2_score  # To evaluate the model\n",
        "\n",
        "# Load the diabetes dataset (available by default in scikit-learn)\n",
        "# The dataset has 10 physiological variables (features) measured on 442 patients\n",
        "# It is used for regression tasks to predict the disease progression after one year.\n",
        "X_diabetes, y_diabetes = datasets.load_diabetes(return_X_y=True)\n",
        "\n",
        "# Selecting only one feature (e.g., BMI or Body Mass Index, which is the 3rd feature in this case)\n",
        "# `np.newaxis` ensures the data is reshaped to a 2D array with one column.\n",
        "X_selected_feature = X_diabetes[:, np.newaxis, 2]  \n",
        "\n",
        "# Split the data into training and testing sets\n",
        "# Training set includes all but the last 20 samples, testing set includes the last 20 samples\n",
        "X_train = X_selected_feature[:-20]  # First 422 data points for training\n",
        "X_test = X_selected_feature[-20:]   # Last 20 data points for testing\n",
        "\n",
        "# Split the target values (disease progression) into training and testing sets\n",
        "y_train = y_diabetes[:-20]  # First 422 target values for training\n",
        "y_test = y_diabetes[-20:]   # Last 20 target values for testing\n",
        "\n",
        "# Create an object for the Linear Regression model\n",
        "linear_regression_model = linear_model.LinearRegression()\n",
        "\n",
        "# Train the linear regression model using the training set (fit the model)\n",
        "linear_regression_model.fit(X_train, y_train)\n",
        "\n",
        "# Use the trained model to predict disease progression for the test set\n",
        "y_predicted = linear_regression_model.predict(X_test)\n",
        "\n",
        "# Displaying model results\n",
        "# Displaying the coefficients (slope) of the linear regression line\n",
        "print(f\"Coefficients (Slope of the regression line): {linear_regression_model.coef_}\")\n",
        "# Calculating and displaying the Mean Squared Error (MSE), a measure of model accuracy\n",
        "mse = mean_squared_error(y_test, y_predicted)\n",
        "print(f\"Mean Squared Error (MSE): {mse:.2f}\")\n",
        "# Calculating and displaying the R² score, which indicates the proportion of variance explained by the model\n",
        "r2 = r2_score(y_test, y_predicted)\n",
        "print(f\"R² Score (Coefficient of Determination): {r2:.2f}\")\n",
        "\n",
        "# Plotting the data points (actual values) and the regression line (predicted values)\n",
        "plt.scatter(X_test, y_test, color=\"red\", label='Actual data')  # Plot actual data points\n",
        "plt.plot(X_test, y_predicted, color=\"blue\", linewidth=2, label='Linear regression line')  # Plot regression line\n",
        "plt.xlabel(\"Selected Feature (BMI)\")\n",
        "plt.ylabel(\"Disease Progression\")\n",
        "plt.title(\"Linear Regression on Diabetes Dataset\")\n",
        "plt.legend()\n",
        "\n",
        "# Display the plot\n",
        "plt.show()\n"
      ]
    }
  ],
  "metadata": {
    "kernelspec": {
      "display_name": "Python 3",
      "language": "python",
      "name": "python3"
    },
    "language_info": {
      "codemirror_mode": {
        "name": "ipython",
        "version": 3
      },
      "file_extension": ".py",
      "mimetype": "text/x-python",
      "name": "python",
      "nbconvert_exporter": "python",
      "pygments_lexer": "ipython3",
      "version": "3.10.5"
    }
  },
  "nbformat": 4,
  "nbformat_minor": 0
}
