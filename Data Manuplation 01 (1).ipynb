{
 "cells": [
  {
   "cell_type": "code",
   "execution_count": 3,
   "id": "821f332a-109c-437f-a3f9-60a6790e2d6b",
   "metadata": {
    "scrolled": true
   },
   "outputs": [],
   "source": [
    "# Data Cleaning and Preparation Tutorial\n",
    "#In this tutorial, we will learn how to clean and prepare data for analysis using Python and pandas. Data cleaning is an essential step in data science, as it ensures the accuracy and usability of the data.\n",
    "\n",
    "# 1. Handling Missing Data\n"
   ]
  },
  {
   "cell_type": "code",
   "execution_count": 38,
   "id": "7ec4b60e-2bea-4cd5-9c42-7644f0bdda07",
   "metadata": {},
   "outputs": [
    {
     "name": "stdout",
     "output_type": "stream",
     "text": [
      "      Name   Age   Salary\n",
      "0    Alice  25.0  50000.0\n",
      "1      Bob   NaN  60000.0\n",
      "2  Charlie  35.0      NaN\n",
      "3    David  45.0  80000.0\n",
      "4     None  50.0      NaN\n"
     ]
    }
   ],
   "source": [
    "import pandas as pd\n",
    "import numpy as np\n",
    "\n",
    "# Sample data with missing values\n",
    "data = pd.DataFrame({\n",
    "    'Name': ['Alice', 'Bob', 'Charlie', 'David', None],\n",
    "    'Age': [25, np.nan, 35, 45, 50],\n",
    "    'Salary': [50000, 60000, np.nan, 80000, None]\n",
    "})\n",
    "\n",
    "print(data)\n"
   ]
  },
  {
   "cell_type": "markdown",
   "id": "08ebe03b-42aa-465c-b4f6-e23e993aa62d",
   "metadata": {},
   "source": [
    "*Explanation*: The above code creates a DataFrame with missing values represented by `NaN` for numeric columns (`Age`, `Salary`) and `None` for the object column (`Name`).\n"
   ]
  },
  {
   "cell_type": "code",
   "execution_count": 7,
   "id": "e80ab454-580b-471f-a908-0810bc8cfa27",
   "metadata": {},
   "outputs": [
    {
     "name": "stdout",
     "output_type": "stream",
     "text": [
      "    Name    Age  Salary\n",
      "0  False  False   False\n",
      "1  False   True   False\n",
      "2  False  False    True\n",
      "3  False  False   False\n",
      "4   True  False    True\n"
     ]
    }
   ],
   "source": [
    "# Identifying missing data\n",
    "print(data.isna())\n"
   ]
  },
  {
   "cell_type": "markdown",
   "id": "353b1d76-382e-4e31-9871-9704779d4c40",
   "metadata": {},
   "source": [
    "**Explanation:** The `isna()` method returns a DataFrame of the same shape as `data` with `True` indicating where missing values are present and `False` otherwise.\r\n"
   ]
  },
  {
   "cell_type": "code",
   "execution_count": 8,
   "id": "09c9f1d5-5a9f-41ee-b707-4c0ea74de10c",
   "metadata": {},
   "outputs": [
    {
     "name": "stdout",
     "output_type": "stream",
     "text": [
      "      Name    Age        Salary\n",
      "0    Alice  25.00  50000.000000\n",
      "1      Bob  38.75  60000.000000\n",
      "2  Charlie  35.00  63333.333333\n",
      "3    David  45.00  80000.000000\n",
      "4     None  50.00  63333.333333\n"
     ]
    }
   ],
   "source": [
    "# Filling missing data with column mean\n",
    "data['Age'] = data['Age'].fillna(data['Age'].mean())\n",
    "data['Salary'] = data['Salary'].fillna(data['Salary'].mean())\n",
    "print(data)\n"
   ]
  },
  {
   "cell_type": "markdown",
   "id": "77e3f8f6-6f05-43ed-98ce-486abd8fd501",
   "metadata": {},
   "source": [
    "**Explanation:** The missing values in the `Age` and `Salary` columns are replaced with the mean of their respective columns using `fillna()`.\n"
   ]
  },
  {
   "cell_type": "code",
   "execution_count": null,
   "id": "36636157-8638-48e8-92e7-e6dd5aaec063",
   "metadata": {},
   "outputs": [],
   "source": []
  },
  {
   "cell_type": "code",
   "execution_count": 9,
   "id": "ef51c4d7-f754-4e55-b688-1cb02e1f274e",
   "metadata": {},
   "outputs": [
    {
     "name": "stdout",
     "output_type": "stream",
     "text": [
      "      Name    Age        Salary\n",
      "0    Alice  25.00  50000.000000\n",
      "1      Bob  38.75  60000.000000\n",
      "2  Charlie  35.00  63333.333333\n",
      "3    David  45.00  80000.000000\n"
     ]
    }
   ],
   "source": [
    "# Removing rows with missing data\n",
    "cleaned_data = data.dropna()\n",
    "print(cleaned_data)\n"
   ]
  },
  {
   "cell_type": "markdown",
   "id": "afe345fd-a3dc-4407-83ed-a281ce8c5a52",
   "metadata": {},
   "source": [
    "**Explanation:** The `dropna()` method removes any rows containing missing data.\n"
   ]
  },
  {
   "cell_type": "code",
   "execution_count": 10,
   "id": "5a60fa89-c981-4367-aabc-dd400a423e0d",
   "metadata": {},
   "outputs": [
    {
     "name": "stdout",
     "output_type": "stream",
     "text": [
      "      Name    Age        Salary\n",
      "0    Alice  25.00  50000.000000\n",
      "1      Bob  38.75  60000.000000\n",
      "2  Charlie  35.00  63333.333333\n",
      "3    David  45.00  80000.000000\n",
      "4     None  50.00  63333.333333\n"
     ]
    }
   ],
   "source": [
    "print(data)"
   ]
  },
  {
   "cell_type": "code",
   "execution_count": null,
   "id": "9188c967-ea49-4441-944b-33a6d3605637",
   "metadata": {},
   "outputs": [],
   "source": []
  },
  {
   "cell_type": "code",
   "execution_count": 11,
   "id": "5a9f7769-ee5b-46cf-98f1-05b6191cf5c5",
   "metadata": {},
   "outputs": [
    {
     "name": "stdout",
     "output_type": "stream",
     "text": [
      "      Name  Age  Score\n",
      "0    Alice   25     85\n",
      "1      Bob   30     95\n",
      "2  Charlie   35     70\n",
      "3    Alice   25     85\n",
      "4    David   45     88\n",
      "5  Charlie   35     70\n",
      "6      Eve   28     92\n"
     ]
    }
   ],
   "source": [
    "import pandas as pd\n",
    "\n",
    "# Sample DataFrame with duplicate entries\n",
    "data = pd.DataFrame({\n",
    "    \"Name\": [\"Alice\", \"Bob\", \"Charlie\", \"Alice\", \"David\", \"Charlie\", \"Eve\"],\n",
    "    \"Age\": [25, 30, 35, 25, 45, 35, 28],\n",
    "    \"Score\": [85, 95, 70, 85, 88, 70, 92]\n",
    "})\n",
    "print(data)\n"
   ]
  },
  {
   "cell_type": "markdown",
   "id": "27ddcfda-c770-4bf0-b53c-8c9c7a2d91ae",
   "metadata": {},
   "source": [
    "This DataFrame has some duplicate rows, specifically rows with \"Alice\" and \"Charlie\" that appear twice."
   ]
  },
  {
   "cell_type": "code",
   "execution_count": 12,
   "id": "2658a4db-d747-4b47-b8d8-3d10cdff0dab",
   "metadata": {},
   "outputs": [
    {
     "name": "stdout",
     "output_type": "stream",
     "text": [
      "0    False\n",
      "1    False\n",
      "2    False\n",
      "3     True\n",
      "4    False\n",
      "5     True\n",
      "6    False\n",
      "dtype: bool\n"
     ]
    }
   ],
   "source": [
    "# Identify duplicated rows\n",
    "duplicates = data.duplicated()\n",
    "print(duplicates)\n"
   ]
  },
  {
   "cell_type": "markdown",
   "id": "9aabf622-42a6-47d6-be33-863502498c5f",
   "metadata": {},
   "source": [
    "The duplicated() method returns a Boolean Series indicating whether each row is a duplicate or not."
   ]
  },
  {
   "cell_type": "code",
   "execution_count": 13,
   "id": "2dbf3f8a-c3d7-44bc-9381-e684600aaea6",
   "metadata": {},
   "outputs": [
    {
     "name": "stdout",
     "output_type": "stream",
     "text": [
      "      Name  Age  Score\n",
      "0    Alice   25     85\n",
      "1      Bob   30     95\n",
      "2  Charlie   35     70\n",
      "4    David   45     88\n",
      "6      Eve   28     92\n"
     ]
    }
   ],
   "source": [
    "# Drop duplicate rows\n",
    "data_no_duplicates = data.drop_duplicates()\n",
    "print(data_no_duplicates)\n"
   ]
  },
  {
   "cell_type": "code",
   "execution_count": 15,
   "id": "b1ee0fc7-e44e-4db6-94b7-2a77f630005f",
   "metadata": {},
   "outputs": [
    {
     "name": "stdout",
     "output_type": "stream",
     "text": [
      "0    False\n",
      "1    False\n",
      "2    False\n",
      "3     True\n",
      "4    False\n",
      "5     True\n",
      "6    False\n",
      "dtype: bool\n"
     ]
    }
   ],
   "source": [
    "print(duplicates)"
   ]
  },
  {
   "cell_type": "code",
   "execution_count": 16,
   "id": "6e1756a4-dd34-4cb5-8418-745bc167284a",
   "metadata": {},
   "outputs": [
    {
     "name": "stdout",
     "output_type": "stream",
     "text": [
      "      Name  Age  Score\n",
      "0    Alice   25     85\n",
      "1      Bob   30     95\n",
      "2  Charlie   35     70\n",
      "4    David   45     88\n",
      "6      Eve   28     92\n"
     ]
    }
   ],
   "source": [
    "# Drop duplicates based only on the 'Name' column\n",
    "data_unique_names = data.drop_duplicates(subset=[\"Name\"])\n",
    "print(data_unique_names)\n"
   ]
  },
  {
   "cell_type": "markdown",
   "id": "749ae5a8-042e-4bf4-a5b5-272eba542b08",
   "metadata": {},
   "source": [
    "This example drops duplicates based only on the \"Name\" column. It retains the first occurrence of each unique \"Name\"."
   ]
  },
  {
   "cell_type": "code",
   "execution_count": 17,
   "id": "600b5657-d915-4b65-8f44-c24cfaad4b55",
   "metadata": {},
   "outputs": [
    {
     "name": "stdout",
     "output_type": "stream",
     "text": [
      "    fruit  price\n",
      "0   apple    1.2\n",
      "1  banana    0.5\n",
      "2  cherry    2.5\n",
      "3  banana    0.5\n",
      "4   apple    1.2\n",
      "5  cherry    2.5\n"
     ]
    }
   ],
   "source": [
    "# Sample data for transforming using a function or mapping\n",
    "data = pd.DataFrame({\n",
    "    \"fruit\": [\"apple\", \"banana\", \"cherry\", \"banana\", \"apple\", \"cherry\"],\n",
    "    \"price\": [1.2, 0.5, 2.5, 0.5, 1.2, 2.5]\n",
    "})\n",
    "print(data)\n"
   ]
  },
  {
   "cell_type": "markdown",
   "id": "6d234683-3054-4556-b5b6-fd9e4bc93216",
   "metadata": {},
   "source": [
    "This DataFrame contains information about different fruits and their prices.\n"
   ]
  },
  {
   "cell_type": "code",
   "execution_count": 18,
   "id": "cf3e47af-71ce-4ca0-8d27-f467598cc345",
   "metadata": {},
   "outputs": [
    {
     "name": "stdout",
     "output_type": "stream",
     "text": [
      "    fruit  price   color\n",
      "0   apple    1.2     red\n",
      "1  banana    0.5  yellow\n",
      "2  cherry    2.5     red\n",
      "3  banana    0.5  yellow\n",
      "4   apple    1.2     red\n",
      "5  cherry    2.5     red\n"
     ]
    }
   ],
   "source": [
    "# Define a mapping from fruit to color\n",
    "fruit_to_color = {\n",
    "    \"apple\": \"red\",\n",
    "    \"banana\": \"yellow\",\n",
    "    \"cherry\": \"red\"\n",
    "}\n",
    "\n",
    "# Use the map method to apply this mapping\n",
    "data[\"color\"] = data[\"fruit\"].map(fruit_to_color)\n",
    "print(data)\n"
   ]
  },
  {
   "cell_type": "markdown",
   "id": "7385632f-402d-437a-b59f-183ea54ae63d",
   "metadata": {},
   "source": [
    "The map() method is used to transform each value in the \"fruit\" column based on the fruit_to_color dictionary."
   ]
  },
  {
   "cell_type": "code",
   "execution_count": 42,
   "id": "6fa4a2a3-28c9-4f9d-9fd1-06184eb8c9be",
   "metadata": {},
   "outputs": [
    {
     "name": "stdout",
     "output_type": "stream",
     "text": [
      "0     100\n",
      "1    -999\n",
      "2     150\n",
      "3    -999\n",
      "4     200\n",
      "5   -1000\n",
      "6     250\n",
      "dtype: int64\n"
     ]
    }
   ],
   "source": [
    "# Sample Series with placeholder values\n",
    "data = pd.Series([100, -999, 150, -999, 200, -1000, 250])\n",
    "print(data)\n"
   ]
  },
  {
   "cell_type": "markdown",
   "id": "12d77610-8d76-4f0e-9f7a-2b01a6da1859",
   "metadata": {},
   "source": [
    "This Series contains some placeholder values (-999, -1000) that we want to replace with meaningful values."
   ]
  },
  {
   "cell_type": "code",
   "execution_count": 43,
   "id": "2e53cb9a-d76b-4c4e-aafb-fd2279d5681d",
   "metadata": {},
   "outputs": [
    {
     "name": "stdout",
     "output_type": "stream",
     "text": [
      "0     100\n",
      "1    <NA>\n",
      "2     150\n",
      "3    <NA>\n",
      "4     200\n",
      "5       0\n",
      "6     250\n",
      "dtype: object\n"
     ]
    }
   ],
   "source": [
    "# Replace placeholder values with NaN\n",
    "data_replaced = data.replace([-999, -1000], [pd.NA, 0])\n",
    "print(data_replaced)\n"
   ]
  },
  {
   "cell_type": "markdown",
   "id": "d500f8e7-6f36-4b72-89d7-a1cfb0e39615",
   "metadata": {},
   "source": [
    "The replace() method allows replacing multiple values with different replacements. Here, -999 is replaced by <NA> (missing value), and -1000 is replaced with 0."
   ]
  },
  {
   "cell_type": "code",
   "execution_count": null,
   "id": "4b1303e3-0710-4e6d-a912-17373b47fec4",
   "metadata": {},
   "outputs": [],
   "source": []
  },
  {
   "cell_type": "code",
   "execution_count": 44,
   "id": "5bfe4ee3-19eb-4a3c-87fb-6c6cbe074197",
   "metadata": {},
   "outputs": [
    {
     "name": "stdout",
     "output_type": "stream",
     "text": [
      "\n",
      "Data After In-place Replacement:\n",
      "0     100\n",
      "1    -999\n",
      "2     150\n",
      "3    -999\n",
      "4     200\n",
      "5   -1000\n",
      "6     250\n",
      "dtype: int64\n"
     ]
    }
   ],
   "source": [
    "# Replace placeholder values with NaN and 0 directly in the original data\n",
    "data.replace([-999, -1000], [pd.NA, 0]), #inplace=True)\n",
    "print(\"\\nData After In-place Replacement:\")\n",
    "print(data)\n"
   ]
  },
  {
   "cell_type": "markdown",
   "id": "72f18e8c-df35-4bbb-9078-828c68f8b5a5",
   "metadata": {},
   "source": [
    "Explanation:\n",
    "Using inplace=True in the replace() method directly modifies the original data Series, so when you print data again, the changes are reflected.\n",
    "The replace() method changes the -999 values to <NA> (missing) and the -1000 value to 0 without needing to assign the result to a new variable.\n",
    "Other Methods to Modify Data in Place\n",
    "Apart from replace(), here are a few other common methods in pandas that support the inplace parameter:\n",
    "\n",
    "fillna(): Fills missing values with a specified value."
   ]
  },
  {
   "cell_type": "code",
   "execution_count": 29,
   "id": "1225da0a-8cf4-4334-bbd0-5acf52799388",
   "metadata": {},
   "outputs": [
    {
     "name": "stdout",
     "output_type": "stream",
     "text": [
      "\n",
      "Data After In-place Drop:\n",
      "0    100\n",
      "1    999\n",
      "2    150\n",
      "3    999\n",
      "4    200\n",
      "5      0\n",
      "6    250\n",
      "dtype: int64\n"
     ]
    }
   ],
   "source": [
    "# Example of dropping missing values in place, drop_duplicates(): Removes duplicate rows.\n",
    "\n",
    "\n",
    "data.dropna(inplace=True)\n",
    "print(\"\\nData After In-place Drop:\")\n",
    "print(data)\n"
   ]
  },
  {
   "cell_type": "code",
   "execution_count": 25,
   "id": "1ee26608-171d-4c80-8869-29f6597aa654",
   "metadata": {},
   "outputs": [
    {
     "name": "stdout",
     "output_type": "stream",
     "text": [
      "\n",
      "Data After In-place Fill:\n",
      "0    100\n",
      "1    999\n",
      "2    150\n",
      "3    999\n",
      "4    200\n",
      "5      0\n",
      "6    250\n",
      "dtype: int64\n"
     ]
    }
   ],
   "source": [
    "# Example of filling missing values in place\n",
    "data.fillna(999, inplace=True)\n",
    "print(\"\\nData After In-place Fill:\")\n",
    "print(data)\n"
   ]
  },
  {
   "cell_type": "code",
   "execution_count": 27,
   "id": "67e9a376-33b3-4a8e-9cf2-841a2ddfb3e6",
   "metadata": {},
   "outputs": [
    {
     "name": "stdout",
     "output_type": "stream",
     "text": [
      "\n",
      "Data After In-place Drop:\n",
      "0    100\n",
      "1    999\n",
      "2    150\n",
      "3    999\n",
      "4    200\n",
      "5      0\n",
      "6    250\n",
      "dtype: int64\n"
     ]
    }
   ],
   "source": []
  },
  {
   "cell_type": "code",
   "execution_count": 8,
   "id": "0fe57177-22bf-41ee-8e74-98ec0a0e49de",
   "metadata": {},
   "outputs": [
    {
     "name": "stdout",
     "output_type": "stream",
     "text": [
      "      Name    Age        Salary\n",
      "0    Alice  25.00  50000.000000\n",
      "1      Bob  38.75  60000.000000\n",
      "2  Charlie  35.00  63333.333333\n",
      "3    David  45.00  80000.000000\n",
      "4     None  50.00  63333.333333\n"
     ]
    }
   ],
   "source": [
    "# Filling missing data with column mean\n",
    "data['Age'] = data['Age'].fillna(data['Age'].mean())\n",
    "data['Salary'] = data['Salary'].fillna(data['Salary'].mean())\n",
    "print(data)\n"
   ]
  },
  {
   "cell_type": "code",
   "execution_count": 40,
   "id": "8b60dc07-3640-4513-88f5-3e7cf9fa698c",
   "metadata": {},
   "outputs": [
    {
     "name": "stdout",
     "output_type": "stream",
     "text": [
      "0     100\n",
      "1    <NA>\n",
      "2     150\n",
      "3    <NA>\n",
      "4     200\n",
      "5       0\n",
      "6     250\n",
      "dtype: object\n"
     ]
    }
   ],
   "source": [
    "# Replace placeholder values with NaN\n",
    "data_replace = data.replace([-999, -1000], [pd.NA, 0])\n",
    "print(data_replaced)"
   ]
  },
  {
   "cell_type": "code",
   "execution_count": 36,
   "id": "353d570f-b5e8-40e5-8bc3-571f4c48a67c",
   "metadata": {},
   "outputs": [
    {
     "name": "stdout",
     "output_type": "stream",
     "text": [
      "0    100\n",
      "1    999\n",
      "2    150\n",
      "3    999\n",
      "4    200\n",
      "5      0\n",
      "6    250\n",
      "dtype: int64\n"
     ]
    }
   ],
   "source": [
    "# Example of dropping missing values in place\n",
    "data_replace.dropna\n",
    "print(\"\\nData After In-place Drop:\")\n",
    "print(data_replace)\n"
   ]
  },
  {
   "cell_type": "code",
   "execution_count": 39,
   "id": "ce28719f-6fd4-4ffb-8ac3-65eef2f52ced",
   "metadata": {},
   "outputs": [
    {
     "name": "stdout",
     "output_type": "stream",
     "text": [
      "\n",
      "Data After In-place Sorting:\n",
      "      Name   Age   Salary\n",
      "0    Alice  25.0  50000.0\n",
      "1      Bob   NaN  60000.0\n",
      "2  Charlie  35.0      NaN\n",
      "3    David  45.0  80000.0\n",
      "4     None  50.0      NaN\n"
     ]
    }
   ],
   "source": [
    "# Example of sorting values in place\n",
    "data.sort_values # (inplace=True)\n",
    "print(\"\\nData After In-place Sorting:\")\n",
    "print(data)\n"
   ]
  },
  {
   "cell_type": "code",
   "execution_count": 50,
   "id": "38af50ed-fbf1-4e37-b0ca-0aa7b9f5d779",
   "metadata": {},
   "outputs": [
    {
     "name": "stdout",
     "output_type": "stream",
     "text": [
      "Original DataFrame:\n",
      "        alpha  beta  gamma  delta\n",
      "Berlin      0     1      2      3\n",
      "Tokyo       4     5      6      7\n",
      "Paris       8     9     10     11\n",
      "London     12    13     14     15\n"
     ]
    }
   ],
   "source": [
    "import pandas as pd\n",
    "import numpy as np\n",
    "\n",
    "# Creating a new DataFrame\n",
    "data = pd.DataFrame(\n",
    "    np.arange(16).reshape((4, 4)),\n",
    "    index=[\"Berlin\", \"Tokyo\", \"Paris\", \"London\"],\n",
    "    columns=[\"alpha\", \"beta\", \"gamma\", \"delta\"]\n",
    ")\n",
    "print(\"Original DataFrame:\")\n",
    "print(data)\n"
   ]
  },
  {
   "cell_type": "code",
   "execution_count": 51,
   "id": "812541af-fe0d-4adb-91c4-c5039ef167c6",
   "metadata": {},
   "outputs": [
    {
     "name": "stdout",
     "output_type": "stream",
     "text": [
      "\n",
      "Transformed Index using map:\n",
      "     alpha  beta  gamma  delta\n",
      "BER      0     1      2      3\n",
      "TOK      4     5      6      7\n",
      "PAR      8     9     10     11\n",
      "LON     12    13     14     15\n"
     ]
    }
   ],
   "source": [
    "# Defining a transformation function\n",
    "def transform(x):\n",
    "    return x[:3].upper()\n",
    "\n",
    "# Applying the map method to transform the index\n",
    "data.index = data.index.map(transform)\n",
    "print(\"\\nTransformed Index using map:\")\n",
    "print(data)\n"
   ]
  },
  {
   "cell_type": "code",
   "execution_count": 52,
   "id": "6c08ec2f-394b-4eb0-81a1-344877cff7f9",
   "metadata": {},
   "outputs": [
    {
     "name": "stdout",
     "output_type": "stream",
     "text": [
      "\n",
      "DataFrame After Using rename:\n",
      "     Alpha  Beta  Gamma  Delta\n",
      "Ber      0     1      2      3\n",
      "Tok      4     5      6      7\n",
      "Par      8     9     10     11\n",
      "Lon     12    13     14     15\n"
     ]
    }
   ],
   "source": [
    "# Using rename to change index and column names\n",
    "data_renamed = data.rename(index=str.title, columns=str.capitalize)\n",
    "print(\"\\nDataFrame After Using rename:\")\n",
    "print(data_renamed)\n"
   ]
  },
  {
   "cell_type": "code",
   "execution_count": 53,
   "id": "6cd27c76-efc9-4c46-b322-3dbf16443655",
   "metadata": {},
   "outputs": [
    {
     "name": "stdout",
     "output_type": "stream",
     "text": [
      "\n",
      "DataFrame After Renaming a Subset with Dictionary:\n",
      "      alpha  beta  theta  delta\n",
      "ROME      0     1      2      3\n",
      "TOK       4     5      6      7\n",
      "PAR       8     9     10     11\n",
      "LON      12    13     14     15\n"
     ]
    }
   ],
   "source": [
    "# Renaming a subset using a dictionary\n",
    "data_subset_renamed = data.rename(index={\"BER\": \"ROME\"}, columns={\"gamma\": \"theta\"})\n",
    "print(\"\\nDataFrame After Renaming a Subset with Dictionary:\")\n",
    "print(data_subset_renamed)\n"
   ]
  },
  {
   "cell_type": "code",
   "execution_count": null,
   "id": "75c25634-9c11-4406-aff0-ba79395bf729",
   "metadata": {},
   "outputs": [],
   "source": []
  }
 ],
 "metadata": {
  "kernelspec": {
   "display_name": "Python 3 (ipykernel)",
   "language": "python",
   "name": "python3"
  },
  "language_info": {
   "codemirror_mode": {
    "name": "ipython",
    "version": 3
   },
   "file_extension": ".py",
   "mimetype": "text/x-python",
   "name": "python",
   "nbconvert_exporter": "python",
   "pygments_lexer": "ipython3",
   "version": "3.11.7"
  }
 },
 "nbformat": 4,
 "nbformat_minor": 5
}
