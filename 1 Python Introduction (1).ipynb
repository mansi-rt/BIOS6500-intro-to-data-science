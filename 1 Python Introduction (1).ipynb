{
 "cells": [
  {
   "cell_type": "markdown",
   "id": "c3328379",
   "metadata": {},
   "source": [
    "<img src=\"https://upload.wikimedia.org/wikipedia/commons/f/f8/Python_logo_and_wordmark.svg\"\n",
    "    style=\"width:300px; float: right; margin: 0 40px 40px 40px;\"></img>\n",
    "\n",
    "# Python object and Data Structure basics\n",
    "\n",
    "* In this jupyter notebook we will cover the basic data types in `Python`\n",
    "* These are your basic building blocks when constructing larger peices of code \n",
    "<br>\n",
    "<br>\n",
    "In the image below first column denotes the name of data type in Python. The second column denotes the keyword for that specific datatype by which it is recognized in Python. Third column gives an idea of their particular examples. \n",
    "\n",
    "<img src=\"https://www.programsbuzz.com/sites/default/files/inline-images/1_QfI8H_8HplGa1v9IrrWjBA.png\"\n",
    "    style=\"width:250px; float: centre; margin: 0 60px 60px 60px;\"></img>\n",
    "    \n",
    "### Numbers\n",
    "#### Basic Arithmetic\n",
    "\n",
    "<font color  = 'black'> This jupyter notebook includes basic introduction to Python and includes explanation of various important expressions/labels required to start coding experience with Python .\n",
    "</font>"
   ]
  },
  {
   "cell_type": "code",
   "execution_count": 1,
   "id": "a8104a4a",
   "metadata": {},
   "outputs": [
    {
     "data": {
      "text/plain": [
       "3"
      ]
     },
     "execution_count": 1,
     "metadata": {},
     "output_type": "execute_result"
    }
   ],
   "source": [
    "# Addition \n",
    "2+1"
   ]
  },
  {
   "cell_type": "code",
   "execution_count": 2,
   "id": "8e9ba22c",
   "metadata": {},
   "outputs": [
    {
     "data": {
      "text/plain": [
       "1"
      ]
     },
     "execution_count": 2,
     "metadata": {},
     "output_type": "execute_result"
    }
   ],
   "source": [
    "# Subtraction\n",
    "2-1"
   ]
  },
  {
   "cell_type": "code",
   "execution_count": 3,
   "id": "e2a834f1",
   "metadata": {},
   "outputs": [
    {
     "data": {
      "text/plain": [
       "6"
      ]
     },
     "execution_count": 3,
     "metadata": {},
     "output_type": "execute_result"
    }
   ],
   "source": [
    "# Multiplication\n",
    "2*3"
   ]
  },
  {
   "cell_type": "code",
   "execution_count": 4,
   "id": "dec74166",
   "metadata": {},
   "outputs": [
    {
     "data": {
      "text/plain": [
       "1.5"
      ]
     },
     "execution_count": 4,
     "metadata": {},
     "output_type": "execute_result"
    }
   ],
   "source": [
    "# Division\n",
    "3/2"
   ]
  },
  {
   "cell_type": "code",
   "execution_count": 5,
   "id": "abbb8d41",
   "metadata": {},
   "outputs": [
    {
     "data": {
      "text/plain": [
       "11"
      ]
     },
     "execution_count": 5,
     "metadata": {},
     "output_type": "execute_result"
    }
   ],
   "source": [
    "# Floor division\n",
    "# If we divide 80 with 7 than 11 is the quotient during the division process (Floor division gives you the quotient)\n",
    "80//7"
   ]
  },
  {
   "cell_type": "code",
   "execution_count": 6,
   "id": "0a9c3c27",
   "metadata": {},
   "outputs": [
    {
     "data": {
      "text/plain": [
       "3"
      ]
     },
     "execution_count": 6,
     "metadata": {},
     "output_type": "execute_result"
    }
   ],
   "source": [
    "# modulo\n",
    "# If we divide 80 with 7 than 3 is the remainder during the division process (Modulo gives you the remainder)\n",
    "7%4"
   ]
  },
  {
   "cell_type": "code",
   "execution_count": 7,
   "id": "e3acefa9",
   "metadata": {},
   "outputs": [
    {
     "data": {
      "text/plain": [
       "8"
      ]
     },
     "execution_count": 7,
     "metadata": {},
     "output_type": "execute_result"
    }
   ],
   "source": [
    "# Power\n",
    "2**3"
   ]
  },
  {
   "cell_type": "code",
   "execution_count": 8,
   "id": "8ac322c8",
   "metadata": {},
   "outputs": [
    {
     "data": {
      "text/plain": [
       "96"
      ]
     },
     "execution_count": 8,
     "metadata": {},
     "output_type": "execute_result"
    }
   ],
   "source": [
    "# BODMAS () rules\n",
    "(10 + 2) * (10 - 2) "
   ]
  },
  {
   "cell_type": "markdown",
   "id": "f4c19721",
   "metadata": {},
   "source": [
    "## Variables in Python\n",
    "\n",
    "A Python variable is a reserved memory location to store values. A variable in a python program gives data to the computer for processing.\n",
    "In short, we use variable in python to temporarily store data in our computer<br>\n",
    "\n",
    "### Variable assignment\n",
    "\n",
    "#### Rules for variable names \n",
    "\n",
    "* names can not start with a number\n",
    "* names can not contain spaces, use _ intead\n",
    "* names can not contain any of these symbols:\n",
    "\n",
    "      :'\",<>/?|\\!@#%^&*~-+\n",
    "       \n",
    "* it's considered best practice that names are lowercase with underscores\n",
    "* avoid using Python built-in keywords like `list` and `str`\n",
    "* avoid using the single characters `l` (lowercase letter el), `O` (uppercase letter oh) and `I` (uppercase letter eye) as they can be confused with `1` and `0` \n",
    "\n",
    "### Objects in Python\n",
    "In Python, each variable to which we assign a value is treated as an object.\n",
    "\n",
    "## Dynamic typing\n",
    "Python uses *dynamic typing*, meaning you can reassign variables to different data types. This makes Python very flexible in assigning data types; it differs from other languages that are *statically typed*"
   ]
  },
  {
   "cell_type": "code",
   "execution_count": 9,
   "id": "03ca0f1e",
   "metadata": {},
   "outputs": [],
   "source": [
    "student_count = 2"
   ]
  },
  {
   "cell_type": "code",
   "execution_count": 10,
   "id": "90c01f0a",
   "metadata": {},
   "outputs": [
    {
     "data": {
      "text/plain": [
       "2"
      ]
     },
     "execution_count": 10,
     "metadata": {},
     "output_type": "execute_result"
    }
   ],
   "source": [
    "student_count"
   ]
  },
  {
   "cell_type": "code",
   "execution_count": 11,
   "id": "37c4b821",
   "metadata": {},
   "outputs": [],
   "source": [
    "student_name = ['Jack', 'Josh']"
   ]
  },
  {
   "cell_type": "code",
   "execution_count": 12,
   "id": "75ba979e",
   "metadata": {},
   "outputs": [
    {
     "data": {
      "text/plain": [
       "['Jack', 'Josh']"
      ]
     },
     "execution_count": 12,
     "metadata": {},
     "output_type": "execute_result"
    }
   ],
   "source": [
    "student_name"
   ]
  },
  {
   "cell_type": "markdown",
   "id": "b2b81de9",
   "metadata": {},
   "source": [
    "### Pros of dynamic typing\n",
    "* very easy to work with\n",
    "* faster development time\n",
    "\n",
    "## Assigning variables\n",
    "Variable assignment follows `name = object`, where a single equals sign `=` is an *assignment operator*"
   ]
  },
  {
   "cell_type": "code",
   "execution_count": 13,
   "id": "7744049e",
   "metadata": {},
   "outputs": [
    {
     "ename": "NameError",
     "evalue": "name 'x' is not defined",
     "output_type": "error",
     "traceback": [
      "\u001b[1;31m---------------------------------------------------------------------------\u001b[0m",
      "\u001b[1;31mNameError\u001b[0m                                 Traceback (most recent call last)",
      "\u001b[1;32m~\\AppData\\Local\\Temp/ipykernel_15588/32546335.py\u001b[0m in \u001b[0;36m<module>\u001b[1;34m\u001b[0m\n\u001b[1;32m----> 1\u001b[1;33m \u001b[0mx\u001b[0m\u001b[1;33m\u001b[0m\u001b[1;33m\u001b[0m\u001b[0m\n\u001b[0m",
      "\u001b[1;31mNameError\u001b[0m: name 'x' is not defined"
     ]
    }
   ],
   "source": [
    "x"
   ]
  },
  {
   "cell_type": "markdown",
   "id": "2b92d6be",
   "metadata": {},
   "source": [
    "This is a mistake that we often commit while coding, we need to keep in mind that we need to initialize a variable with any value before giving a command to return its output "
   ]
  },
  {
   "cell_type": "code",
   "execution_count": 14,
   "id": "26dc2911",
   "metadata": {},
   "outputs": [],
   "source": [
    "x = 10"
   ]
  },
  {
   "cell_type": "code",
   "execution_count": 15,
   "id": "04f2f36b",
   "metadata": {},
   "outputs": [
    {
     "data": {
      "text/plain": [
       "10"
      ]
     },
     "execution_count": 15,
     "metadata": {},
     "output_type": "execute_result"
    }
   ],
   "source": [
    "x"
   ]
  },
  {
   "cell_type": "code",
   "execution_count": 16,
   "id": "56f7fc51",
   "metadata": {},
   "outputs": [
    {
     "data": {
      "text/plain": [
       "20"
      ]
     },
     "execution_count": 16,
     "metadata": {},
     "output_type": "execute_result"
    }
   ],
   "source": [
    "x+x"
   ]
  },
  {
   "cell_type": "markdown",
   "id": "2a1651ca",
   "metadata": {},
   "source": [
    "## Reassigning variables\n",
    "Python lets you reassign variables with a reference to the same object"
   ]
  },
  {
   "cell_type": "code",
   "execution_count": 17,
   "id": "f7289e7b",
   "metadata": {},
   "outputs": [
    {
     "data": {
      "text/plain": [
       "20"
      ]
     },
     "execution_count": 17,
     "metadata": {},
     "output_type": "execute_result"
    }
   ],
   "source": [
    "x = x + x\n",
    "x"
   ]
  },
  {
   "cell_type": "markdown",
   "id": "dcab7c60",
   "metadata": {},
   "source": [
    "## Determining variable type with type()\n",
    "You can check what type of object is assigned to a variable using Python's built-in `type()` function. Common data types include:\n",
    "* **int** (for integer)\n",
    "* **float**\n",
    "* **str** (for string)\n",
    "* **list**\n",
    "* **tuple**\n",
    "* **dict** (for dictionary)\n",
    "* **set**\n",
    "* **bool** (for Boolean True/False)"
   ]
  },
  {
   "cell_type": "code",
   "execution_count": 18,
   "id": "3e524584",
   "metadata": {},
   "outputs": [
    {
     "data": {
      "text/plain": [
       "int"
      ]
     },
     "execution_count": 18,
     "metadata": {},
     "output_type": "execute_result"
    }
   ],
   "source": [
    "type(x)"
   ]
  },
  {
   "cell_type": "code",
   "execution_count": 19,
   "id": "1cd06181",
   "metadata": {},
   "outputs": [
    {
     "data": {
      "text/plain": [
       "float"
      ]
     },
     "execution_count": 19,
     "metadata": {},
     "output_type": "execute_result"
    }
   ],
   "source": [
    "x = 20.0\n",
    "type(x)"
   ]
  },
  {
   "cell_type": "code",
   "execution_count": 20,
   "id": "f08c4468",
   "metadata": {},
   "outputs": [
    {
     "data": {
      "text/plain": [
       "tuple"
      ]
     },
     "execution_count": 20,
     "metadata": {},
     "output_type": "execute_result"
    }
   ],
   "source": [
    "x = (1,2)\n",
    "type(x)"
   ]
  },
  {
   "cell_type": "markdown",
   "id": "954b5c19",
   "metadata": {},
   "source": [
    "### Small exercise"
   ]
  },
  {
   "cell_type": "code",
   "execution_count": 21,
   "id": "1523b8db",
   "metadata": {},
   "outputs": [
    {
     "data": {
      "text/plain": [
       "200.0"
      ]
     },
     "execution_count": 21,
     "metadata": {},
     "output_type": "execute_result"
    }
   ],
   "source": [
    "my_income = 1000\n",
    "tax_rate = 0.2\n",
    "my_tax = my_income * tax_rate\n",
    "my_tax"
   ]
  },
  {
   "cell_type": "code",
   "execution_count": 22,
   "id": "3f7c373a",
   "metadata": {},
   "outputs": [
    {
     "data": {
      "text/plain": [
       "float"
      ]
     },
     "execution_count": 22,
     "metadata": {},
     "output_type": "execute_result"
    }
   ],
   "source": [
    "type(my_tax)"
   ]
  },
  {
   "cell_type": "markdown",
   "id": "75f95957",
   "metadata": {},
   "source": [
    "This was a basic introduction to playing with numbers and assigning variables in Python"
   ]
  },
  {
   "cell_type": "markdown",
   "id": "a4d0eaea",
   "metadata": {},
   "source": [
    "## Strings\n",
    "Sequence of characters <br>\n",
    "In Python, string is an immutable sequence data type. It is the sequence of Unicode characters wrapped inside single, double, or triple quotes\n",
    "We will cover the following for strings data-type in this lecture\n",
    " 1. Creating Strings\n",
    " 2. Printing Strings\n",
    " 3. String Indexing and Slicing\n",
    " 4. String Properties\n",
    " 5. String Methods\n",
    " 6. Print Formatting"
   ]
  },
  {
   "cell_type": "markdown",
   "id": "c4abd941",
   "metadata": {},
   "source": [
    "### Creating a string\n",
    "We can use single, double or triple quotes for creating a string in Python"
   ]
  },
  {
   "cell_type": "code",
   "execution_count": 23,
   "id": "35fb3ce2",
   "metadata": {},
   "outputs": [
    {
     "data": {
      "text/plain": [
       "'Hello'"
      ]
     },
     "execution_count": 23,
     "metadata": {},
     "output_type": "execute_result"
    }
   ],
   "source": [
    "# Single word\n",
    "'Hello'"
   ]
  },
  {
   "cell_type": "code",
   "execution_count": 24,
   "id": "46dab06b",
   "metadata": {},
   "outputs": [
    {
     "data": {
      "text/plain": [
       "'Hello World'"
      ]
     },
     "execution_count": 24,
     "metadata": {},
     "output_type": "execute_result"
    }
   ],
   "source": [
    "# Entire phrase\n",
    "'Hello World'"
   ]
  },
  {
   "cell_type": "markdown",
   "id": "049c9ba3",
   "metadata": {},
   "source": [
    "The reason for this error is because of the single quote after I which finishes off the string at that pt. This could be solved by - "
   ]
  },
  {
   "cell_type": "code",
   "execution_count": 25,
   "id": "452c4ae2",
   "metadata": {},
   "outputs": [
    {
     "data": {
      "text/plain": [
       "\"I'll be completing the task\""
      ]
     },
     "execution_count": 25,
     "metadata": {},
     "output_type": "execute_result"
    }
   ],
   "source": [
    "\"I'll be completing the task\""
   ]
  },
  {
   "cell_type": "markdown",
   "id": "f249265b",
   "metadata": {},
   "source": [
    "### Prinitng a string\n",
    "The correct way to output a string is by using a print function"
   ]
  },
  {
   "cell_type": "code",
   "execution_count": 26,
   "id": "afa696bd",
   "metadata": {},
   "outputs": [
    {
     "data": {
      "text/plain": [
       "'Hello World'"
      ]
     },
     "execution_count": 26,
     "metadata": {},
     "output_type": "execute_result"
    }
   ],
   "source": [
    "'Hello World'"
   ]
  },
  {
   "cell_type": "code",
   "execution_count": 27,
   "id": "d96487f0",
   "metadata": {},
   "outputs": [
    {
     "data": {
      "text/plain": [
       "'Hello'"
      ]
     },
     "execution_count": 27,
     "metadata": {},
     "output_type": "execute_result"
    }
   ],
   "source": [
    "'''Hello World1'''\n",
    "'Hello'"
   ]
  },
  {
   "cell_type": "markdown",
   "id": "b46d114f",
   "metadata": {},
   "source": [
    "So, in this case we see that jupyter notebook only prints the last input when multiple strings are inserted"
   ]
  },
  {
   "cell_type": "code",
   "execution_count": 28,
   "id": "3f2c8c0c",
   "metadata": {},
   "outputs": [
    {
     "name": "stdout",
     "output_type": "stream",
     "text": [
      "Hello World1\n",
      "Hello World2\n"
     ]
    }
   ],
   "source": [
    "print('Hello World1')\n",
    "print('Hello World2')"
   ]
  },
  {
   "cell_type": "code",
   "execution_count": 29,
   "id": "dae24ea1",
   "metadata": {},
   "outputs": [
    {
     "name": "stdout",
     "output_type": "stream",
     "text": [
      "Hello World1\n",
      "Hello World2\n"
     ]
    }
   ],
   "source": [
    "# Use of '\\n' in print function\n",
    "print('Hello World1\\nHello World2')"
   ]
  },
  {
   "cell_type": "code",
   "execution_count": 30,
   "id": "988a2eb0",
   "metadata": {},
   "outputs": [
    {
     "name": "stdout",
     "output_type": "stream",
     "text": [
      "Hello World1\tHello World2\n"
     ]
    }
   ],
   "source": [
    "# Use of '\\t' in print fucntion\n",
    "print('Hello World1\\tHello World2')"
   ]
  },
  {
   "cell_type": "markdown",
   "id": "d056ce1f",
   "metadata": {},
   "source": [
    "We can make use of len() function to calculate the length of a string (including spaces and punctuations)"
   ]
  },
  {
   "cell_type": "markdown",
   "id": "81c69ab8",
   "metadata": {},
   "source": [
    "## Important - String Indexing\n",
    "Elements in an `String` are stored in their specific index values which is unique.<br>\n",
    "Example - Let `s = 'Hello World'` be a string where the element present at the first place is stored at the `0th` index in the string, second element present is stored at `1st` index and so on.....\n",
    "So for the above string the values are stored in the string as -<br> \n",
    "    `0th` index - 'H'<br>\n",
    "    `1st` index - 'e'<br>\n",
    "    `2nd` index - 'l'<br>\n",
    "    `3rd` index - 'l'<br>\n",
    "    `4th` index - 'o'<br>\n",
    "This concept is quite important to understand and keep in mind for future references and understanding of arrays, lists, tuple, dictionary, loops used in programming languages\n",
    "\n",
    "We know strings are a sequence, which means Python can use indexes to call parts of the sequence. Let's learn how this works.\n",
    "\n",
    "In Python, we use brackets `[]` after an object to call its index. We should also note that indexing starts at 0 for Python. Let's create a new object called `'s'` and then walk through a few examples of indexing."
   ]
  },
  {
   "cell_type": "code",
   "execution_count": 31,
   "id": "abfc09cc",
   "metadata": {},
   "outputs": [
    {
     "name": "stdout",
     "output_type": "stream",
     "text": [
      "hello World\n"
     ]
    },
    {
     "data": {
      "text/plain": [
       "'h'"
      ]
     },
     "execution_count": 31,
     "metadata": {},
     "output_type": "execute_result"
    }
   ],
   "source": [
    "n = 'hello World'\n",
    "print(n)\n",
    "# Element at 0th index\n",
    "n[0]"
   ]
  },
  {
   "cell_type": "code",
   "execution_count": 32,
   "id": "5cd8fc13",
   "metadata": {},
   "outputs": [
    {
     "data": {
      "text/plain": [
       "'e'"
      ]
     },
     "execution_count": 32,
     "metadata": {},
     "output_type": "execute_result"
    }
   ],
   "source": [
    "# Element at 1st index\n",
    "n[1]"
   ]
  },
  {
   "cell_type": "code",
   "execution_count": 33,
   "id": "4cb463bb",
   "metadata": {},
   "outputs": [
    {
     "data": {
      "text/plain": [
       "'l'"
      ]
     },
     "execution_count": 33,
     "metadata": {},
     "output_type": "execute_result"
    }
   ],
   "source": [
    "# Element at 3rd index\n",
    "n[3]"
   ]
  },
  {
   "cell_type": "code",
   "execution_count": 34,
   "id": "e89fbbf2",
   "metadata": {},
   "outputs": [
    {
     "data": {
      "text/plain": [
       "' '"
      ]
     },
     "execution_count": 34,
     "metadata": {},
     "output_type": "execute_result"
    }
   ],
   "source": [
    "# Element at 5th index\n",
    "n[5]"
   ]
  },
  {
   "cell_type": "markdown",
   "id": "cd79856b",
   "metadata": {},
   "source": [
    "We can make use of `:` for slicing, which grabs everything in a string upto a certain point"
   ]
  },
  {
   "cell_type": "code",
   "execution_count": 35,
   "id": "eef3c400",
   "metadata": {},
   "outputs": [
    {
     "data": {
      "text/plain": [
       "'hello World'"
      ]
     },
     "execution_count": 35,
     "metadata": {},
     "output_type": "execute_result"
    }
   ],
   "source": [
    "# Grab everything in a string\n",
    "n[:]"
   ]
  },
  {
   "cell_type": "code",
   "execution_count": 36,
   "id": "502e9154",
   "metadata": {},
   "outputs": [
    {
     "data": {
      "text/plain": [
       "'ello World'"
      ]
     },
     "execution_count": 36,
     "metadata": {},
     "output_type": "execute_result"
    }
   ],
   "source": [
    "# Grab everything in a string except the first element\n",
    "n[1:]"
   ]
  },
  {
   "cell_type": "code",
   "execution_count": 37,
   "id": "f8861b93",
   "metadata": {},
   "outputs": [
    {
     "data": {
      "text/plain": [
       "'hell'"
      ]
     },
     "execution_count": 37,
     "metadata": {},
     "output_type": "execute_result"
    }
   ],
   "source": [
    "# Grab everything upto a certain extent\n",
    "n[:4]"
   ]
  },
  {
   "cell_type": "markdown",
   "id": "3d863139",
   "metadata": {},
   "source": [
    "* IMP: In the above slicing it should be seen that slicing does not include the i'th index (here 4) but prints output one less than the index that is entered"
   ]
  },
  {
   "cell_type": "code",
   "execution_count": 38,
   "id": "23b98bf2",
   "metadata": {},
   "outputs": [
    {
     "name": "stdout",
     "output_type": "stream",
     "text": [
      "ello W\n",
      "6\n"
     ]
    }
   ],
   "source": [
    "print(n[1:7])\n",
    "print(len(n[1:7]))"
   ]
  },
  {
   "cell_type": "code",
   "execution_count": 39,
   "id": "5aa3d64c",
   "metadata": {},
   "outputs": [
    {
     "data": {
      "text/plain": [
       "'d'"
      ]
     },
     "execution_count": 39,
     "metadata": {},
     "output_type": "execute_result"
    }
   ],
   "source": [
    "# Slicing could also be done like\n",
    "n[-1]"
   ]
  },
  {
   "cell_type": "code",
   "execution_count": 40,
   "id": "3511df75",
   "metadata": {},
   "outputs": [
    {
     "data": {
      "text/plain": [
       "'hello Worl'"
      ]
     },
     "execution_count": 40,
     "metadata": {},
     "output_type": "execute_result"
    }
   ],
   "source": [
    "n[:-1]"
   ]
  },
  {
   "cell_type": "markdown",
   "id": "643a210a",
   "metadata": {},
   "source": [
    "We can also use slicing with a step size to print certain output in a string"
   ]
  },
  {
   "cell_type": "code",
   "execution_count": 41,
   "id": "2aef3dca",
   "metadata": {},
   "outputs": [
    {
     "data": {
      "text/plain": [
       "'eoo'"
      ]
     },
     "execution_count": 41,
     "metadata": {},
     "output_type": "execute_result"
    }
   ],
   "source": [
    "# Output for a string starting from index 1 to 7 with a step size of 2\n",
    "n[1:8:3]"
   ]
  },
  {
   "cell_type": "code",
   "execution_count": 42,
   "id": "0fd1a774",
   "metadata": {},
   "outputs": [
    {
     "data": {
      "text/plain": [
       "'hloWrd'"
      ]
     },
     "execution_count": 42,
     "metadata": {},
     "output_type": "execute_result"
    }
   ],
   "source": [
    "# Output for whole string with a step size of 2\n",
    "n[::2]"
   ]
  },
  {
   "cell_type": "code",
   "execution_count": 43,
   "id": "3df33267",
   "metadata": {},
   "outputs": [
    {
     "data": {
      "text/plain": [
       "'dlroW olleh'"
      ]
     },
     "execution_count": 43,
     "metadata": {},
     "output_type": "execute_result"
    }
   ],
   "source": [
    "# Reverse of a string\n",
    "n[::-1]"
   ]
  },
  {
   "cell_type": "markdown",
   "id": "b4af656c",
   "metadata": {},
   "source": [
    "### String properties\n",
    "It's important to note that strings have an important property known as *immutability*. This means that once a string is created, the elements within it can not be changed or replaced. For example:"
   ]
  },
  {
   "cell_type": "code",
   "execution_count": 44,
   "id": "289004fd",
   "metadata": {},
   "outputs": [
    {
     "ename": "TypeError",
     "evalue": "'str' object does not support item assignment",
     "output_type": "error",
     "traceback": [
      "\u001b[1;31m---------------------------------------------------------------------------\u001b[0m",
      "\u001b[1;31mTypeError\u001b[0m                                 Traceback (most recent call last)",
      "\u001b[1;32m~\\AppData\\Local\\Temp/ipykernel_15588/3537526665.py\u001b[0m in \u001b[0;36m<module>\u001b[1;34m\u001b[0m\n\u001b[0;32m      1\u001b[0m \u001b[1;31m# Try to change the first element of a string\u001b[0m\u001b[1;33m\u001b[0m\u001b[1;33m\u001b[0m\u001b[1;33m\u001b[0m\u001b[0m\n\u001b[1;32m----> 2\u001b[1;33m \u001b[0mn\u001b[0m\u001b[1;33m[\u001b[0m\u001b[1;36m0\u001b[0m\u001b[1;33m]\u001b[0m \u001b[1;33m=\u001b[0m \u001b[0mx\u001b[0m\u001b[1;33m\u001b[0m\u001b[1;33m\u001b[0m\u001b[0m\n\u001b[0m",
      "\u001b[1;31mTypeError\u001b[0m: 'str' object does not support item assignment"
     ]
    }
   ],
   "source": [
    "# Try to change the first element of a string\n",
    "n[0] = x"
   ]
  },
  {
   "cell_type": "code",
   "execution_count": 45,
   "id": "9bc955a7",
   "metadata": {},
   "outputs": [
    {
     "data": {
      "text/plain": [
       "'hello WorldHello Universe'"
      ]
     },
     "execution_count": 45,
     "metadata": {},
     "output_type": "execute_result"
    }
   ],
   "source": [
    "# Concatenate strings\n",
    "n + 'Hello Universe'"
   ]
  },
  {
   "cell_type": "code",
   "execution_count": 46,
   "id": "0d74f6cf",
   "metadata": {},
   "outputs": [
    {
     "data": {
      "text/plain": [
       "'hello World, Hello universe'"
      ]
     },
     "execution_count": 46,
     "metadata": {},
     "output_type": "execute_result"
    }
   ],
   "source": [
    "n + ', ' + 'Hello universe'"
   ]
  },
  {
   "cell_type": "code",
   "execution_count": 47,
   "id": "18023218",
   "metadata": {},
   "outputs": [
    {
     "data": {
      "text/plain": [
       "'hello World, Hello Universe'"
      ]
     },
     "execution_count": 47,
     "metadata": {},
     "output_type": "execute_result"
    }
   ],
   "source": [
    "# We can re-assign the strings again\n",
    "n = n + ', Hello Universe'\n",
    "n"
   ]
  },
  {
   "cell_type": "markdown",
   "id": "73174e78",
   "metadata": {},
   "source": [
    "We can use the multiplication symbol to create repetition!!"
   ]
  },
  {
   "cell_type": "code",
   "execution_count": 48,
   "id": "8e941c76",
   "metadata": {},
   "outputs": [
    {
     "data": {
      "text/plain": [
       "'zzzzzzzzzz'"
      ]
     },
     "execution_count": 48,
     "metadata": {},
     "output_type": "execute_result"
    }
   ],
   "source": [
    "letter = 'z'\n",
    "letter*10"
   ]
  },
  {
   "cell_type": "markdown",
   "id": "5127d483",
   "metadata": {},
   "source": [
    "### Basic Built-in string methods\n",
    "Objects in Python usually have built-in methods.\n",
    "\n",
    "We call methods with a period and then the method name. Methods are in the form:<br>\n",
    "object.method(parameters)\n"
   ]
  },
  {
   "cell_type": "code",
   "execution_count": 49,
   "id": "f6ef2001",
   "metadata": {},
   "outputs": [
    {
     "data": {
      "text/plain": [
       "False"
      ]
     },
     "execution_count": 49,
     "metadata": {},
     "output_type": "execute_result"
    }
   ],
   "source": [
    "# Showing different methods associated with string n\n",
    "# You can explore these methods that are associated with this object\n",
    "n.isupper()"
   ]
  },
  {
   "cell_type": "code",
   "execution_count": 50,
   "id": "cd031dc4",
   "metadata": {},
   "outputs": [
    {
     "data": {
      "text/plain": [
       "'HELLO WORLD, HELLO UNIVERSE'"
      ]
     },
     "execution_count": 50,
     "metadata": {},
     "output_type": "execute_result"
    }
   ],
   "source": [
    "# Upper case a string\n",
    "n.upper()"
   ]
  },
  {
   "cell_type": "code",
   "execution_count": 51,
   "id": "9d9b3543",
   "metadata": {},
   "outputs": [
    {
     "data": {
      "text/plain": [
       "'hello world, hello universe'"
      ]
     },
     "execution_count": 51,
     "metadata": {},
     "output_type": "execute_result"
    }
   ],
   "source": [
    "# Lower case a string\n",
    "n.lower()"
   ]
  },
  {
   "cell_type": "code",
   "execution_count": 52,
   "id": "c145632d",
   "metadata": {},
   "outputs": [
    {
     "data": {
      "text/plain": [
       "['hello', 'World,', 'Hello', 'Universe']"
      ]
     },
     "execution_count": 52,
     "metadata": {},
     "output_type": "execute_result"
    }
   ],
   "source": [
    "# Splitting a string by a blank space\n",
    "n.split()"
   ]
  },
  {
   "cell_type": "code",
   "execution_count": 53,
   "id": "30269167",
   "metadata": {},
   "outputs": [
    {
     "data": {
      "text/plain": [
       "['hell', ' W', 'rld, Hell', ' Universe']"
      ]
     },
     "execution_count": 53,
     "metadata": {},
     "output_type": "execute_result"
    }
   ],
   "source": [
    "# Splitting a string by a specific letter\n",
    "n.split('o')"
   ]
  },
  {
   "cell_type": "markdown",
   "id": "a08b841d",
   "metadata": {},
   "source": [
    "## String formatting\n",
    "It is the process of inserting a custom string or variable in predefined text\n",
    "\n",
    "There are three ways to perform string formatting.\n",
    "* The oldest method involves placeholders using the modulo `%` character.\n",
    "* An improved technique uses the `.format()` string method.\n",
    "* The newest method, introduced with Python 3.6, uses formatted string literals, called *f-strings*\n",
    "\n",
    "### Formatting with placeholders\n",
    "You can use `%s` to inject strings into your print statements. The modulo `%` is referred to as a \"string formatting operator\"."
   ]
  },
  {
   "cell_type": "code",
   "execution_count": 54,
   "id": "b8e692a2",
   "metadata": {},
   "outputs": [
    {
     "name": "stdout",
     "output_type": "stream",
     "text": [
      "Hey! my name is: Puranjit Singh\n"
     ]
    }
   ],
   "source": [
    "print(\"Hey! my name is: %s Singh\" %'Puranjit')"
   ]
  },
  {
   "cell_type": "code",
   "execution_count": 55,
   "id": "91a62e72",
   "metadata": {},
   "outputs": [
    {
     "name": "stdout",
     "output_type": "stream",
     "text": [
      "Hey! my name is: Puranjit Singh\n"
     ]
    }
   ],
   "source": [
    "print(\"Hey! my name is: %s %s\" %('Puranjit', 'Singh'))"
   ]
  },
  {
   "cell_type": "code",
   "execution_count": 56,
   "id": "08c39501",
   "metadata": {},
   "outputs": [
    {
     "name": "stdout",
     "output_type": "stream",
     "text": [
      "Hey!! my name is Puranjit Singh\n"
     ]
    }
   ],
   "source": [
    "# We can also pass variable names\n",
    "a, b = 'Puranjit', 'Singh'\n",
    "print('Hey!! my name is %s %s' %(a,b))"
   ]
  },
  {
   "cell_type": "markdown",
   "id": "f2102642",
   "metadata": {},
   "source": [
    "The `%s` operator converts whatever it sees into a string, including integers and floats.\n",
    "#### Multiple formatting"
   ]
  },
  {
   "cell_type": "code",
   "execution_count": 57,
   "id": "13cd1cca",
   "metadata": {},
   "outputs": [
    {
     "name": "stdout",
     "output_type": "stream",
     "text": [
      "First: hi!, Second:  3.14, Third: bye!\n"
     ]
    }
   ],
   "source": [
    "# Here `2f` in 5.2f shows how many number after decimal pt. would be printed \n",
    "print('First: %s, Second: %5.2f, Third: %s' %('hi!',3.1415,'bye!'))"
   ]
  },
  {
   "cell_type": "markdown",
   "id": "1b42b5f2",
   "metadata": {},
   "source": [
    "## Formatting with the `.format()` method\n",
    "A better way to format objects into your strings for print statements is with the string `.format()` method. The syntax is:\n",
    "\n",
    "    'String here {} then also {}'.format('something1','something2')\n",
    "    \n",
    "For example:"
   ]
  },
  {
   "cell_type": "code",
   "execution_count": 58,
   "id": "f54434e6",
   "metadata": {},
   "outputs": [
    {
     "name": "stdout",
     "output_type": "stream",
     "text": [
      "This is a string with an insert\n"
     ]
    }
   ],
   "source": [
    "print('This is a string with an {}'.format('insert'))"
   ]
  },
  {
   "cell_type": "markdown",
   "id": "798f2719",
   "metadata": {},
   "source": [
    "### The .format() method has several advantages over the %s placeholder method:\n",
    "Inserted objects can be called by index position:"
   ]
  },
  {
   "cell_type": "code",
   "execution_count": 59,
   "id": "48ff7846",
   "metadata": {},
   "outputs": [
    {
     "name": "stdout",
     "output_type": "stream",
     "text": [
      "The quick brown fox\n"
     ]
    }
   ],
   "source": [
    "print('The {2} {1} {0}'.format('fox','brown','quick'))"
   ]
  },
  {
   "cell_type": "markdown",
   "id": "392b6b11",
   "metadata": {},
   "source": [
    "## Formatted String Literals (f-strings)\n",
    "Introduced in Python 3.6, f-strings offer several benefits over the older `.format()` string method described above. For one, you can bring outside variables immediately into to the string rather than pass them as arguments through `.format(var)`."
   ]
  },
  {
   "cell_type": "code",
   "execution_count": 60,
   "id": "cd7cde51",
   "metadata": {},
   "outputs": [
    {
     "name": "stdout",
     "output_type": "stream",
     "text": [
      "He said his name is John.\n"
     ]
    }
   ],
   "source": [
    "name = 'John'\n",
    "\n",
    "print(f\"He said his name is {name}.\")"
   ]
  },
  {
   "cell_type": "code",
   "execution_count": 61,
   "id": "cf50298e",
   "metadata": {},
   "outputs": [
    {
     "name": "stdout",
     "output_type": "stream",
     "text": [
      "My 10 character, four decimal number is:   23.4500\n",
      "My 10 character, four decimal number is:     23.45\n"
     ]
    }
   ],
   "source": [
    "num = 23.45\n",
    "print(\"My 10 character, four decimal number is:{0:10.4f}\".format(num))\n",
    "print(f\"My 10 character, four decimal number is:{num:{10}.{6}}\")"
   ]
  },
  {
   "cell_type": "markdown",
   "id": "2f8afdfc",
   "metadata": {},
   "source": [
    "For more info on formatted string literals visit https://docs.python.org/3/reference/lexical_analysis.html#f-strings"
   ]
  },
  {
   "cell_type": "markdown",
   "id": "a076a4fe",
   "metadata": {},
   "source": [
    "## Lists\n",
    "\n",
    "List is a collection data type which is ordered and mutable. Unlike Sets, Lists allow duplicate elements.\n",
    "They are useful for preserving a sequence of data and further iterating over it. "
   ]
  },
  {
   "cell_type": "markdown",
   "id": "f1553bc4",
   "metadata": {},
   "source": [
    "Lists are created with square brackets or the built-in list functions"
   ]
  },
  {
   "cell_type": "code",
   "execution_count": 62,
   "id": "dce131f2",
   "metadata": {},
   "outputs": [
    {
     "name": "stdout",
     "output_type": "stream",
     "text": [
      "['banana', 'cherry', 'apple']\n",
      "[]\n",
      "[5, True, 'apple']\n",
      "[0, 0, 1, 1]\n"
     ]
    }
   ],
   "source": [
    "list_1 = [\"banana\", \"cherry\", \"apple\"]\n",
    "print(list_1)\n",
    "\n",
    "# create an empty list with the list function\n",
    "list_2 = list()\n",
    "print(list_2)\n",
    "\n",
    "# Lists allow different data types\n",
    "list_3 = [5, True, \"apple\"]\n",
    "print(list_3)\n",
    "\n",
    "# Lists allow duplicates\n",
    "list_4 = [0, 0, 1, 1]\n",
    "print(list_4)"
   ]
  },
  {
   "cell_type": "markdown",
   "id": "37e28a01",
   "metadata": {},
   "source": [
    "#### Access elements\n",
    "You access the list items by referring to the index number. Note that the indices start at 0."
   ]
  },
  {
   "cell_type": "code",
   "execution_count": 63,
   "id": "f4032a08",
   "metadata": {},
   "outputs": [
    {
     "name": "stdout",
     "output_type": "stream",
     "text": [
      "banana\n",
      "apple\n"
     ]
    }
   ],
   "source": [
    "item = list_1[0]\n",
    "print(item)\n",
    "\n",
    "# You can also use negative indexing, e.g -1 refers to the last item,\n",
    "# -2 to the second last item, and so on\n",
    "item = list_1[-1]\n",
    "print(item)"
   ]
  },
  {
   "cell_type": "markdown",
   "id": "f6af0fbe",
   "metadata": {},
   "source": [
    "#### Change items\n",
    "Just refer to the index number and assign a new value."
   ]
  },
  {
   "cell_type": "code",
   "execution_count": 64,
   "id": "5af0b6c7",
   "metadata": {},
   "outputs": [
    {
     "name": "stdout",
     "output_type": "stream",
     "text": [
      "['banana', 'cherry', 'lemon']\n"
     ]
    }
   ],
   "source": [
    "# Lists can be altered after their creation\n",
    "list_1[2] = \"lemon\"\n",
    "print(list_1)"
   ]
  },
  {
   "cell_type": "markdown",
   "id": "2ba787a7",
   "metadata": {},
   "source": [
    "#### Useful methods\n",
    "Have a look at the Python Documentation to see all list methods: \n",
    "https://docs.python.org/3/tutorial/datastructures.html "
   ]
  },
  {
   "cell_type": "code",
   "execution_count": 65,
   "id": "2b60af15",
   "metadata": {},
   "outputs": [
    {
     "name": "stdout",
     "output_type": "stream",
     "text": [
      "Length: 3\n"
     ]
    }
   ],
   "source": [
    "my_list = [\"banana\", \"cherry\", \"apple\"]\n",
    "\n",
    "# len() : get the number of elements in a list\n",
    "print(\"Length:\", len(my_list))"
   ]
  },
  {
   "cell_type": "code",
   "execution_count": 66,
   "id": "51a9fd7a",
   "metadata": {},
   "outputs": [],
   "source": [
    "# append() : adds an element to the end of the list\n",
    "my_list.append(\"orange\")"
   ]
  },
  {
   "cell_type": "code",
   "execution_count": 67,
   "id": "b07f560b",
   "metadata": {},
   "outputs": [
    {
     "name": "stdout",
     "output_type": "stream",
     "text": [
      "['banana', 'blueberry', 'cherry', 'apple', 'orange']\n"
     ]
    }
   ],
   "source": [
    "# insert() : adds an element at the specified position\n",
    "my_list.insert(1, \"blueberry\")\n",
    "print(my_list)"
   ]
  },
  {
   "cell_type": "code",
   "execution_count": 68,
   "id": "f00c1f7f",
   "metadata": {},
   "outputs": [
    {
     "name": "stdout",
     "output_type": "stream",
     "text": [
      "Popped item:  orange\n"
     ]
    }
   ],
   "source": [
    "# pop() : removes and returns the item at the given position, default is the last item\n",
    "item = my_list.pop()\n",
    "print(\"Popped item: \", item)\n"
   ]
  },
  {
   "cell_type": "code",
   "execution_count": 69,
   "id": "d8d94427",
   "metadata": {},
   "outputs": [
    {
     "name": "stdout",
     "output_type": "stream",
     "text": [
      "['banana', 'blueberry', 'apple']\n"
     ]
    }
   ],
   "source": [
    "# remove() : removes an item from the list\n",
    "my_list.remove(\"cherry\") # Value error if not in the list\n",
    "print(my_list)"
   ]
  },
  {
   "cell_type": "code",
   "execution_count": 70,
   "id": "677b8c36",
   "metadata": {},
   "outputs": [
    {
     "name": "stdout",
     "output_type": "stream",
     "text": [
      "[]\n"
     ]
    }
   ],
   "source": [
    "# clear() : removes all items from the list\n",
    "my_list.clear()\n",
    "print(my_list)"
   ]
  },
  {
   "cell_type": "code",
   "execution_count": 71,
   "id": "f28f2a33",
   "metadata": {},
   "outputs": [
    {
     "name": "stdout",
     "output_type": "stream",
     "text": [
      "Reversed:  ['apple', 'cherry', 'banana']\n"
     ]
    }
   ],
   "source": [
    "# reverse() : reverse the items\n",
    "my_list = [\"banana\", \"cherry\", \"apple\"]\n",
    "my_list.reverse()\n",
    "print('Reversed: ', my_list)"
   ]
  },
  {
   "cell_type": "code",
   "execution_count": 72,
   "id": "f7d06310",
   "metadata": {},
   "outputs": [
    {
     "name": "stdout",
     "output_type": "stream",
     "text": [
      "Sorted:  ['apple', 'banana', 'cherry']\n"
     ]
    }
   ],
   "source": [
    "# sort() : sort items in ascending order\n",
    "my_list.sort()\n",
    "print('Sorted: ', my_list)"
   ]
  },
  {
   "cell_type": "code",
   "execution_count": 73,
   "id": "4938396a",
   "metadata": {},
   "outputs": [],
   "source": [
    "# use sorted() to get a new list, and leave the original unaffected.\n",
    "# sorted() works on any iterable type, not just lists\n",
    "my_list = [\"banana\", \"cherry\", \"apple\"]\n",
    "new_list = sorted(my_list)"
   ]
  },
  {
   "cell_type": "code",
   "execution_count": 74,
   "id": "28428ff0",
   "metadata": {},
   "outputs": [
    {
     "name": "stdout",
     "output_type": "stream",
     "text": [
      "[0, 0, 0, 0, 0]\n"
     ]
    }
   ],
   "source": [
    "# create list with repeated elements\n",
    "list_with_zeros = [0] * 5\n",
    "print(list_with_zeros)"
   ]
  },
  {
   "cell_type": "code",
   "execution_count": 75,
   "id": "80727704",
   "metadata": {},
   "outputs": [
    {
     "name": "stdout",
     "output_type": "stream",
     "text": [
      "[0, 0, 0, 0, 0, 'banana', 'cherry', 'apple']\n"
     ]
    }
   ],
   "source": [
    "# concatenation\n",
    "list_concat = list_with_zeros + my_list\n",
    "print(list_concat)\n"
   ]
  },
  {
   "cell_type": "code",
   "execution_count": 76,
   "id": "ae199acf",
   "metadata": {},
   "outputs": [
    {
     "name": "stdout",
     "output_type": "stream",
     "text": [
      "['H', 'e', 'l', 'l', 'o']\n"
     ]
    }
   ],
   "source": [
    "# convert string to list\n",
    "string_to_list = list('Hello')\n",
    "print(string_to_list)"
   ]
  },
  {
   "cell_type": "markdown",
   "id": "2121ab26",
   "metadata": {},
   "source": [
    "# Dictionaries\n",
    "\n",
    "We've been learning about *sequences* in Python but now we're going to switch gears and learn about *mappings* in Python. If you're familiar with other languages you can think of these Dictionaries as hash tables. \n",
    "\n",
    "This section will serve as a brief introduction to dictionaries and consist of:\n",
    "\n",
    "    1.) Constructing a Dictionary\n",
    "    2.) Accessing objects from a dictionary\n",
    "    3.) Nesting Dictionaries\n",
    "    4.) Basic Dictionary Methods\n",
    "\n",
    "So what are mappings? Mappings are a collection of objects that are stored by a *key*, unlike a sequence that stored objects by their relative position. This is an important distinction, since mappings won't retain order since they have objects defined by a key.\n",
    "\n",
    "A Python dictionary consists of a key and then an associated value. That value can be almost any Python object.\n",
    "\n",
    "\n",
    "## Constructing a Dictionary\n",
    "Let's see how we can construct dictionaries to get a better understanding of how they work!"
   ]
  },
  {
   "cell_type": "code",
   "execution_count": 77,
   "id": "f0bfe2d8",
   "metadata": {},
   "outputs": [],
   "source": [
    "# Make a dictionary with {} and : to signify a key and a value\n",
    "my_dict = {'key1':'value1','key2':'value2'}"
   ]
  },
  {
   "cell_type": "code",
   "execution_count": 78,
   "id": "ec145d6a",
   "metadata": {},
   "outputs": [
    {
     "data": {
      "text/plain": [
       "'value2'"
      ]
     },
     "execution_count": 78,
     "metadata": {},
     "output_type": "execute_result"
    }
   ],
   "source": [
    "# Call values by their key\n",
    "my_dict['key2']"
   ]
  },
  {
   "cell_type": "code",
   "execution_count": 79,
   "id": "d281e865",
   "metadata": {},
   "outputs": [],
   "source": [
    "# Dictionaries are very flexible in the data types they can hold\n",
    "my_dict = {'key1':123,'key2':[12,23,33],'key3':['item0','item1','item2']}"
   ]
  },
  {
   "cell_type": "code",
   "execution_count": 80,
   "id": "e01b955e",
   "metadata": {},
   "outputs": [
    {
     "data": {
      "text/plain": [
       "['item0', 'item1', 'item2']"
      ]
     },
     "execution_count": 80,
     "metadata": {},
     "output_type": "execute_result"
    }
   ],
   "source": [
    "# Let's call items from the dictionary\n",
    "my_dict['key3']"
   ]
  },
  {
   "cell_type": "code",
   "execution_count": 81,
   "id": "f485018e",
   "metadata": {},
   "outputs": [
    {
     "data": {
      "text/plain": [
       "'item0'"
      ]
     },
     "execution_count": 81,
     "metadata": {},
     "output_type": "execute_result"
    }
   ],
   "source": [
    "# Can call an index on that value\n",
    "my_dict['key3'][0]"
   ]
  },
  {
   "cell_type": "markdown",
   "id": "5925f024",
   "metadata": {},
   "source": [
    "A quick note, Python has a built-in method of doing a self subtraction or addition (or multiplication or division). We could have also used += or -= for the above statement. For example:"
   ]
  },
  {
   "cell_type": "code",
   "execution_count": 82,
   "id": "4d0c16f5",
   "metadata": {},
   "outputs": [
    {
     "data": {
      "text/plain": [
       "0"
      ]
     },
     "execution_count": 82,
     "metadata": {},
     "output_type": "execute_result"
    }
   ],
   "source": [
    "# Set the object equal to itself minus 123 \n",
    "my_dict['key1'] -= 123\n",
    "my_dict['key1']"
   ]
  },
  {
   "cell_type": "markdown",
   "id": "ad329eac",
   "metadata": {},
   "source": [
    "# Tuples\n",
    "\n",
    "In Python tuples are very similar to lists, however, unlike lists they are *immutable* meaning they can not be changed. You would use tuples to present things that shouldn't be changed, such as days of the week, or dates on a calendar. \n",
    "\n",
    "In this section, we will get a brief overview of the following:\n",
    "\n",
    "    1.) Constructing Tuples\n",
    "    2.) Basic Tuple Methods\n",
    "    3.) Immutability\n",
    "    4.) When to Use Tuples\n",
    "\n",
    "You'll have an intuition of how to use tuples based on what you've learned about lists. We can treat them very similarly with the major distinction being that tuples are immutable.\n",
    "\n",
    "### Constructing Tuples\n",
    "\n",
    "The construction of a tuples use () with elements separated by commas. For example:"
   ]
  },
  {
   "cell_type": "code",
   "execution_count": 83,
   "id": "12bdedb0",
   "metadata": {},
   "outputs": [],
   "source": [
    "# Create a tuple\n",
    "t = (1,2,3)"
   ]
  },
  {
   "cell_type": "code",
   "execution_count": 84,
   "id": "56495162",
   "metadata": {},
   "outputs": [
    {
     "data": {
      "text/plain": [
       "3"
      ]
     },
     "execution_count": 84,
     "metadata": {},
     "output_type": "execute_result"
    }
   ],
   "source": [
    "# Check len just like a list\n",
    "len(t)"
   ]
  },
  {
   "cell_type": "code",
   "execution_count": 85,
   "id": "f6ea18e5",
   "metadata": {},
   "outputs": [
    {
     "data": {
      "text/plain": [
       "('one', 2)"
      ]
     },
     "execution_count": 85,
     "metadata": {},
     "output_type": "execute_result"
    }
   ],
   "source": [
    "# Can also mix object types\n",
    "t = ('one',2)\n",
    "t"
   ]
  },
  {
   "cell_type": "markdown",
   "id": "59e259de",
   "metadata": {},
   "source": [
    "### Basic Tuple Methods\n",
    "\n",
    "Tuples have built-in methods, but not as many as lists do. Let's look at two of them:"
   ]
  },
  {
   "cell_type": "code",
   "execution_count": 86,
   "id": "168d5779",
   "metadata": {},
   "outputs": [
    {
     "data": {
      "text/plain": [
       "0"
      ]
     },
     "execution_count": 86,
     "metadata": {},
     "output_type": "execute_result"
    }
   ],
   "source": [
    "# Use .index to enter a value and return the index\n",
    "t.index('one')"
   ]
  },
  {
   "cell_type": "code",
   "execution_count": 87,
   "id": "2c5ecd04",
   "metadata": {},
   "outputs": [
    {
     "data": {
      "text/plain": [
       "1"
      ]
     },
     "execution_count": 87,
     "metadata": {},
     "output_type": "execute_result"
    }
   ],
   "source": [
    "# Use .count to count the number of times a value appears\n",
    "t.count('one')"
   ]
  },
  {
   "cell_type": "markdown",
   "id": "163c0890",
   "metadata": {},
   "source": [
    "### Immutability\n",
    "\n",
    "It can't be stressed enough that tuples are immutable. To drive that point home:"
   ]
  },
  {
   "cell_type": "code",
   "execution_count": 88,
   "id": "401d73ee",
   "metadata": {},
   "outputs": [
    {
     "ename": "TypeError",
     "evalue": "'tuple' object does not support item assignment",
     "output_type": "error",
     "traceback": [
      "\u001b[1;31m---------------------------------------------------------------------------\u001b[0m",
      "\u001b[1;31mTypeError\u001b[0m                                 Traceback (most recent call last)",
      "\u001b[1;32m~\\AppData\\Local\\Temp/ipykernel_15588/1765062513.py\u001b[0m in \u001b[0;36m<module>\u001b[1;34m\u001b[0m\n\u001b[1;32m----> 1\u001b[1;33m \u001b[0mt\u001b[0m\u001b[1;33m[\u001b[0m\u001b[1;36m0\u001b[0m\u001b[1;33m]\u001b[0m\u001b[1;33m=\u001b[0m \u001b[1;34m'change'\u001b[0m\u001b[1;33m\u001b[0m\u001b[1;33m\u001b[0m\u001b[0m\n\u001b[0m",
      "\u001b[1;31mTypeError\u001b[0m: 'tuple' object does not support item assignment"
     ]
    }
   ],
   "source": [
    "t[0]= 'change'"
   ]
  },
  {
   "cell_type": "code",
   "execution_count": 89,
   "id": "c46dc5e4",
   "metadata": {},
   "outputs": [
    {
     "ename": "AttributeError",
     "evalue": "'tuple' object has no attribute 'append'",
     "output_type": "error",
     "traceback": [
      "\u001b[1;31m---------------------------------------------------------------------------\u001b[0m",
      "\u001b[1;31mAttributeError\u001b[0m                            Traceback (most recent call last)",
      "\u001b[1;32m~\\AppData\\Local\\Temp/ipykernel_15588/3007115639.py\u001b[0m in \u001b[0;36m<module>\u001b[1;34m\u001b[0m\n\u001b[1;32m----> 1\u001b[1;33m \u001b[0mt\u001b[0m\u001b[1;33m.\u001b[0m\u001b[0mappend\u001b[0m\u001b[1;33m(\u001b[0m\u001b[1;34m'nope'\u001b[0m\u001b[1;33m)\u001b[0m\u001b[1;33m\u001b[0m\u001b[1;33m\u001b[0m\u001b[0m\n\u001b[0m",
      "\u001b[1;31mAttributeError\u001b[0m: 'tuple' object has no attribute 'append'"
     ]
    }
   ],
   "source": [
    "t.append('nope')"
   ]
  },
  {
   "cell_type": "markdown",
   "id": "1efeb896",
   "metadata": {},
   "source": [
    "## When to use Tuples\n",
    "\n",
    "You may be wondering, \"Why bother using tuples when they have fewer available methods?\" To be honest, tuples are not used as often as lists in programming, but are used when immutability is necessary. If in your program you are passing around an object and need to make sure it does not get changed, then a tuple becomes your solution. It provides a convenient source of data integrity.\n",
    "\n",
    "You should now be able to create and use tuples in your programming as well as have an understanding of their immutability.\n"
   ]
  },
  {
   "cell_type": "markdown",
   "id": "a9367c28",
   "metadata": {},
   "source": [
    "# Set and Booleans\n",
    "\n",
    "There are two other object types in Python that we should quickly cover: Sets and Booleans. \n",
    "\n",
    "## Sets\n",
    "\n",
    "Sets are an unordered collection of *unique* elements. We can construct them by using the set() function. Let's go ahead and make a set to see how it works"
   ]
  },
  {
   "cell_type": "code",
   "execution_count": 90,
   "id": "95b1c266",
   "metadata": {},
   "outputs": [
    {
     "data": {
      "text/plain": [
       "{1}"
      ]
     },
     "execution_count": 90,
     "metadata": {},
     "output_type": "execute_result"
    }
   ],
   "source": [
    "x = set()\n",
    "# We add to sets with the add() method\n",
    "x.add(1)\n",
    "#Show\n",
    "x"
   ]
  },
  {
   "cell_type": "markdown",
   "id": "81d2873c",
   "metadata": {},
   "source": [
    "Note the curly brackets. This does not indicate a dictionary! Although you can draw analogies as a set being a dictionary with only keys.\n",
    "\n",
    "We know that a set has only unique entries. So what happens when we try to add something that is already in a set?"
   ]
  },
  {
   "cell_type": "code",
   "execution_count": 91,
   "id": "514d0814",
   "metadata": {},
   "outputs": [
    {
     "data": {
      "text/plain": [
       "{1, 2, 3, 4, 5, 6}"
      ]
     },
     "execution_count": 91,
     "metadata": {},
     "output_type": "execute_result"
    }
   ],
   "source": [
    "# Create a list with repeats\n",
    "list1 = [1,1,2,2,3,4,5,6,1,1]\n",
    "# Cast as set to get unique values\n",
    "set(list1)"
   ]
  },
  {
   "cell_type": "markdown",
   "id": "6d19e316",
   "metadata": {},
   "source": [
    "## Booleans\n"
   ]
  },
  {
   "cell_type": "markdown",
   "id": "fced106d",
   "metadata": {},
   "source": [
    "In the following table, we would solve the questions using a = 3 and b = 4\n",
    "\n",
    "These operators will allow us to compare variables and output a Boolean value (True or False)\n",
    "\n",
    "<table class=\"table table-bordered\">\n",
    "<tr>\n",
    "<th style=\"width:10%\">Operator</th><th style=\"width:45%\">Description</th><th>Example</th>\n",
    "</tr>\n",
    "<tr>\n",
    "<td>==</td>\n",
    "<td>If the values of two operands are equal, then the condition becomes true.</td>\n",
    "<td> (a == b) is not true.</td>\n",
    "</tr>\n",
    "<tr>\n",
    "<td>!=</td>\n",
    "<td>If values of two operands are not equal, then condition becomes true.</td>\n",
    "<td> (a != b) is true.</td>\n",
    "</tr>\n",
    "<tr>\n",
    "<td>&gt;</td>\n",
    "<td>If the value of left operand is greater than the value of right operand, then condition becomes true.</td>\n",
    "<td> (a &gt; b) is not true.</td>\n",
    "</tr>\n",
    "<tr>\n",
    "<td>&lt;</td>\n",
    "<td>If the value of left operand is less than the value of right operand, then condition becomes true.</td>\n",
    "<td> (a &lt; b) is true.</td>\n",
    "</tr>\n",
    "<tr>\n",
    "<td>&gt;=</td>\n",
    "<td>If the value of left operand is greater than or equal to the value of right operand, then condition becomes true.</td>\n",
    "<td> (a &gt;= b) is not true. </td>\n",
    "</tr>\n",
    "<tr>\n",
    "<td>&lt;=</td>\n",
    "<td>If the value of left operand is less than or equal to the value of right operand, then condition becomes true.</td>\n",
    "<td> (a &lt;= b) is true. </td>\n",
    "</tr>\n",
    "</table>\n",
    "\n"
   ]
  },
  {
   "cell_type": "code",
   "execution_count": 92,
   "id": "d54a52b8",
   "metadata": {},
   "outputs": [
    {
     "data": {
      "text/plain": [
       "True"
      ]
     },
     "execution_count": 92,
     "metadata": {},
     "output_type": "execute_result"
    }
   ],
   "source": [
    "# Set object to be a boolean\n",
    "a = True\n",
    "a"
   ]
  },
  {
   "cell_type": "code",
   "execution_count": 93,
   "id": "990b5110",
   "metadata": {},
   "outputs": [
    {
     "data": {
      "text/plain": [
       "False"
      ]
     },
     "execution_count": 93,
     "metadata": {},
     "output_type": "execute_result"
    }
   ],
   "source": [
    "# Output is boolean\n",
    "1 > 2"
   ]
  },
  {
   "cell_type": "code",
   "execution_count": 94,
   "id": "d385ea5f",
   "metadata": {},
   "outputs": [
    {
     "data": {
      "text/plain": [
       "True"
      ]
     },
     "execution_count": 94,
     "metadata": {},
     "output_type": "execute_result"
    }
   ],
   "source": [
    "3.0==3"
   ]
  },
  {
   "cell_type": "code",
   "execution_count": 95,
   "id": "e988ae6b",
   "metadata": {},
   "outputs": [
    {
     "data": {
      "text/plain": [
       "False"
      ]
     },
     "execution_count": 95,
     "metadata": {},
     "output_type": "execute_result"
    }
   ],
   "source": [
    "3.0>3"
   ]
  },
  {
   "cell_type": "code",
   "execution_count": 96,
   "id": "218fe6a8",
   "metadata": {},
   "outputs": [
    {
     "data": {
      "text/plain": [
       "True"
      ]
     },
     "execution_count": 96,
     "metadata": {},
     "output_type": "execute_result"
    }
   ],
   "source": [
    "3.0>=3"
   ]
  },
  {
   "cell_type": "code",
   "execution_count": 97,
   "id": "525adbcf",
   "metadata": {},
   "outputs": [
    {
     "data": {
      "text/plain": [
       "False"
      ]
     },
     "execution_count": 97,
     "metadata": {},
     "output_type": "execute_result"
    }
   ],
   "source": [
    "4*0.5!=2.0"
   ]
  },
  {
   "cell_type": "markdown",
   "id": "59dc411f",
   "metadata": {},
   "source": [
    "What is the boolean output of the following question?"
   ]
  },
  {
   "cell_type": "code",
   "execution_count": 98,
   "id": "10c4dfc9",
   "metadata": {},
   "outputs": [
    {
     "data": {
      "text/plain": [
       "False"
      ]
     },
     "execution_count": 98,
     "metadata": {},
     "output_type": "execute_result"
    }
   ],
   "source": [
    "# two nested lists\n",
    "l_one = [1,2,[3,4]]\n",
    "l_two = [1,2,{'k1':4}]\n",
    "\n",
    "# True or False?\n",
    "l_one[2][0] >= l_two[2]['k1']"
   ]
  },
  {
   "cell_type": "code",
   "execution_count": null,
   "id": "2d2badf7",
   "metadata": {},
   "outputs": [],
   "source": []
  }
 ],
 "metadata": {
  "kernelspec": {
   "display_name": "Python 3 (ipykernel)",
   "language": "python",
   "name": "python3"
  },
  "language_info": {
   "codemirror_mode": {
    "name": "ipython",
    "version": 3
   },
   "file_extension": ".py",
   "mimetype": "text/x-python",
   "name": "python",
   "nbconvert_exporter": "python",
   "pygments_lexer": "ipython3",
   "version": "3.9.5"
  }
 },
 "nbformat": 4,
 "nbformat_minor": 5
}
