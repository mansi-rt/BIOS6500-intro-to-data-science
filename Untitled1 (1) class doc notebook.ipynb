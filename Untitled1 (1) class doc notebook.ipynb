{
 "cells": [
  {
   "cell_type": "code",
   "execution_count": 7,
   "id": "0f08cbc7-3768-4e4c-a8f4-c3f14eaea7bf",
   "metadata": {},
   "outputs": [
    {
     "name": "stdout",
     "output_type": "stream",
     "text": [
      "Descriptive Statistics of the Data:\n",
      "            0         1         2         3\n",
      "0    0.345157 -0.673573 -0.096872 -1.509783\n",
      "1    0.611159 -2.119816  1.780718  0.347664\n",
      "2   -0.897091  0.425012  1.850351  0.132433\n",
      "3    1.321895 -0.213506  0.580945 -2.146815\n",
      "4   -0.924085 -2.184550 -1.925482 -0.368269\n",
      "..        ...       ...       ...       ...\n",
      "995  0.639372 -2.454351 -0.077494 -1.500924\n",
      "996  0.805329 -0.156093 -1.273927  2.548325\n",
      "997  0.680172  0.868181 -0.575667 -0.274601\n",
      "998 -0.365088  1.990230 -2.167744 -0.046019\n",
      "999  0.975137  0.810957 -0.467959  0.031007\n",
      "\n",
      "[1000 rows x 4 columns]\n",
      "                 0            1            2            3\n",
      "count  1000.000000  1000.000000  1000.000000  1000.000000\n",
      "mean      0.014259    -0.031829    -0.017740    -0.039970\n",
      "std       1.016262     0.948918     1.014655     1.013174\n",
      "min      -2.956010    -2.685481    -3.092381    -3.253687\n",
      "25%      -0.684655    -0.669440    -0.682163    -0.756287\n",
      "50%       0.046209    -0.017571    -0.053176    -0.053265\n",
      "75%       0.687862     0.623730     0.681919     0.637810\n",
      "max       3.183935     3.605063     3.383639     3.246340\n"
     ]
    }
   ],
   "source": [
    "import numpy as np\n",
    "import pandas as pd\n",
    "\n",
    "# Generate a DataFrame with normally distributed data\n",
    "data = pd.DataFrame(np.random.standard_normal((1000, 4)))\n",
    "\n",
    "# Display descriptive statistics of the data\n",
    "print(\"Descriptive Statistics of the Data:\")\n",
    "print(data)\n",
    "print(data.describe())\n"
   ]
  },
  {
   "cell_type": "markdown",
   "id": "eca9d666-8f62-40b8-a43b-f31ca59924bd",
   "metadata": {},
   "source": [
    "np.random.standard_normal((1000, 4)) generates a 1000x4 matrix of random numbers drawn from a standard normal distribution.\n",
    "pd.DataFrame(...) converts the matrix into a DataFrame.\n",
    "data.describe() provides a summary of statistics like mean, standard deviation, and percentiles for each column.\n",
    "Step 2: Detect Outliers in a Specific Column\n",
    "To find values in column 2 that exceed 3 in absolute value:"
   ]
  },
  {
   "cell_type": "code",
   "execution_count": 5,
   "id": "cdcddcd6-91fd-4363-ae98-b3b23a7875b1",
   "metadata": {},
   "outputs": [
    {
     "name": "stdout",
     "output_type": "stream",
     "text": [
      "\n",
      "Outliers in Column 2:\n",
      "459   -3.617837\n",
      "782    3.080968\n",
      "Name: 2, dtype: float64\n"
     ]
    }
   ],
   "source": [
    "# Select the column to check for outliers\n",
    "col = data[2]\n",
    "\n",
    "# Find values exceeding 3 in absolute value\n",
    "outliers_col = col[col.abs() > 3]\n",
    "print(\"\\nOutliers in Column 2:\")\n",
    "print(outliers_col)\n"
   ]
  },
  {
   "cell_type": "markdown",
   "id": "4328bd35-89ad-4db9-8907-7a1014b9ffad",
   "metadata": {},
   "source": [
    "data.abs() > 3 creates a Boolean DataFrame where values greater than 3 in absolute terms are marked as True.\n",
    ".any(axis='columns') checks if any column in each row has a True value.\n",
    "data[(data.abs() > 3).any(axis='columns')] filters out the rows where any column has an outlier.\n",
    "Step 4: Cap Outliers Using np.sign and inplace Operations\n",
    "To cap the values outside the range of -3 to 3:"
   ]
  },
  {
   "cell_type": "code",
   "execution_count": 6,
   "id": "0abcec52-619a-4f9a-94b4-290550a50bf1",
   "metadata": {},
   "outputs": [
    {
     "name": "stdout",
     "output_type": "stream",
     "text": [
      "\n",
      "Rows with Outliers in Any Column:\n",
      "            0         1         2         3\n",
      "116 -3.224694 -0.582590 -1.459096 -0.708833\n",
      "278 -1.295733 -0.320384  1.799589  3.636438\n",
      "417 -0.441509 -1.904090  0.727183  4.135169\n",
      "459 -0.697698 -0.121747 -3.617837 -0.795135\n",
      "566 -0.075419  0.086795 -1.093684  3.534973\n",
      "640  3.014346  0.387546  2.714997 -0.437871\n",
      "688 -0.642721  0.729394 -0.336234 -3.083636\n",
      "716  1.386277 -3.270058  0.732501 -0.973724\n",
      "782  0.551717 -2.043327  3.080968 -0.899704\n",
      "936 -0.390314 -3.162148  0.024568 -1.505562\n"
     ]
    }
   ],
   "source": [
    "# Detect all rows with any value exceeding 3 or less than -3\n",
    "outliers_rows = data[(data.abs() > 3).any(axis='columns')]\n",
    "print(\"\\nRows with Outliers in Any Column:\")\n",
    "print(outliers_rows)\n"
   ]
  },
  {
   "cell_type": "code",
   "execution_count": 8,
   "id": "ed861b17-9d6d-4a28-bf94-8df2e4544f48",
   "metadata": {},
   "outputs": [
    {
     "name": "stdout",
     "output_type": "stream",
     "text": [
      "Hierarchical Index Series:\n",
      "x  1    0.895085\n",
      "   2    0.125591\n",
      "   3    0.514164\n",
      "y  1    0.334689\n",
      "   2    0.121735\n",
      "z  1    0.506089\n",
      "   2    0.817436\n",
      "w  1    0.667600\n",
      "   2    0.618742\n",
      "   3    0.528833\n",
      "dtype: float64\n"
     ]
    }
   ],
   "source": [
    "import pandas as pd\n",
    "import numpy as np\n",
    "\n",
    "# Creating a Series with hierarchical index\n",
    "data = pd.Series(\n",
    "    np.random.uniform(size=10),  # Random data for the example\n",
    "    index=[\n",
    "        [\"x\", \"x\", \"x\", \"y\", \"y\", \"z\", \"z\", \"w\", \"w\", \"w\"],\n",
    "        [1, 2, 3, 1, 2, 1, 2, 1, 2, 3]\n",
    "    ]\n",
    ")\n",
    "\n",
    "print(\"Hierarchical Index Series:\")\n",
    "print(data)\n"
   ]
  },
  {
   "cell_type": "markdown",
   "id": "50711e72-93a3-434c-bd54-0d1cd2112a18",
   "metadata": {},
   "source": [
    "Outer Level (Level 0):\n",
    "\n",
    "The first list [\"x\", \"x\", \"x\", \"y\", \"y\", \"z\", \"z\", \"w\", \"w\", \"w\"] represents the outer level of the index. This level groups the data by the first index.\n",
    "The unique labels in this level are: x, y, z, w.\n",
    "Inner Level (Level 1):\n",
    "\n",
    "The second list [1, 2, 3, 1, 2, 1, 2, 1, 2, 3] represents the inner level of the index. This level represents a sub-index under each label in the outer level.\n",
    "The unique labels in this level are: 1, 2, 3.\n",
    "MultiIndex:\n",
    "\n",
    "These two lists together form a MultiIndex, where each combination of the outer and inner levels forms a unique identifier for each data point in the Series.\n",
    "Visual Representation of the Hierarchical Index\n",
    "To better understand this, let's visualize how the hierarchical index is structured:"
   ]
  },
  {
   "cell_type": "markdown",
   "id": "a83c53a0-1031-47b9-940e-c6eedea744e5",
   "metadata": {},
   "source": [
    "Outer Level (Level 0) | Inner Level (Level 1) | Value\n",
    "-----------------------------------------------------\n",
    "x                     | 1                     | 0.682356\n",
    "x                     | 2                     | 0.479302\n",
    "x                     | 3                     | 0.301799\n",
    "y                     | 1                     | 0.804570\n",
    "y                     | 2                     | 0.911242\n",
    "z                     | 1                     | 0.158301\n",
    "z                     | 2                     | 0.798315\n",
    "w                     | 1                     | 0.884762\n",
    "w                     | 2                     | 0.194512\n",
    "w                     | 3                     | 0.249384\n"
   ]
  },
  {
   "cell_type": "markdown",
   "id": "bbd1b5c6-0af7-478b-bdfb-8affca006509",
   "metadata": {},
   "source": [
    "Selecting Data Using the Hierarchical Index\n",
    "With hierarchical indexing, you can easily select data at different levels:\n",
    "\n",
    "Selecting by the Outer Level Only:\n",
    "\n",
    "You can select all data for a specific outer level, such as all entries for y:"
   ]
  },
  {
   "cell_type": "code",
   "execution_count": 12,
   "id": "ef9429f2-2f14-4530-b376-c6d3c26b477c",
   "metadata": {},
   "outputs": [
    {
     "name": "stdout",
     "output_type": "stream",
     "text": [
      "1    0.334689\n",
      "2    0.121735\n",
      "dtype: float64\n"
     ]
    }
   ],
   "source": [
    "print(data[\"y\"])\n"
   ]
  },
  {
   "cell_type": "markdown",
   "id": "bddeda21-b196-4c57-a413-3cd19d86b8dd",
   "metadata": {},
   "source": [
    "Selecting a Range of Outer Levels:\n",
    "\n",
    "You can select a range of outer levels, like from y to z:"
   ]
  },
  {
   "cell_type": "code",
   "execution_count": 15,
   "id": "9be26302-11d1-4452-954d-5ac0481feac1",
   "metadata": {},
   "outputs": [
    {
     "name": "stdout",
     "output_type": "stream",
     "text": [
      "y  1    0.334689\n",
      "   2    0.121735\n",
      "w  1    0.667600\n",
      "   2    0.618742\n",
      "   3    0.528833\n",
      "dtype: float64\n"
     ]
    }
   ],
   "source": [
    "print(data.loc[[\"y\", \"w\"]])"
   ]
  },
  {
   "cell_type": "markdown",
   "id": "851e08fe-31f3-4618-bd16-2b0c1624b8be",
   "metadata": {},
   "source": [
    "Selecting by the Inner Level Across All Outer Levels:\n",
    "\n",
    "To select all data for a specific inner level (e.g., level 2), you can use partial indexing:"
   ]
  },
  {
   "cell_type": "code",
   "execution_count": 16,
   "id": "20b43696-ab1e-433b-b58b-46a0dba09853",
   "metadata": {},
   "outputs": [
    {
     "name": "stdout",
     "output_type": "stream",
     "text": [
      "x    0.125591\n",
      "y    0.121735\n",
      "z    0.817436\n",
      "w    0.618742\n",
      "dtype: float64\n"
     ]
    }
   ],
   "source": [
    "print(data.loc[:, 2])"
   ]
  },
  {
   "cell_type": "markdown",
   "id": "8d4b2c01-4e5a-4aea-ac8f-8f31b02c534d",
   "metadata": {},
   "source": [
    "Reshaping with unstack and stack\n",
    "Hierarchical indexing is particularly useful for reshaping data.\n",
    "\n",
    "Unstacking the Data:\n",
    "\n",
    "The unstack() method pivots the inner level of the index to form columns in a DataFrame:"
   ]
  },
  {
   "cell_type": "code",
   "execution_count": null,
   "id": "1746fafb-bca5-4483-9b75-e5e279850211",
   "metadata": {},
   "outputs": [],
   "source": []
  }
 ],
 "metadata": {
  "kernelspec": {
   "display_name": "Python 3 (ipykernel)",
   "language": "python",
   "name": "python3"
  },
  "language_info": {
   "codemirror_mode": {
    "name": "ipython",
    "version": 3
   },
   "file_extension": ".py",
   "mimetype": "text/x-python",
   "name": "python",
   "nbconvert_exporter": "python",
   "pygments_lexer": "ipython3",
   "version": "3.11.7"
  }
 },
 "nbformat": 4,
 "nbformat_minor": 5
}
